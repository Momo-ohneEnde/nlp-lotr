{
 "cells": [
  {
   "cell_type": "markdown",
   "id": "4f8c0b73",
   "metadata": {},
   "source": [
    "# Sentiment Analysis"
   ]
  },
  {
   "cell_type": "code",
   "execution_count": 1,
   "id": "7d817b99",
   "metadata": {},
   "outputs": [],
   "source": [
    "from bs4 import BeautifulSoup\n",
    "import requests\n",
    "import os\n",
    "from os import path\n",
    "import re\n",
    "import pandas as pd\n",
    "import numpy as np\n",
    "from textblob import TextBlob\n",
    "import spacy\n",
    "from spacytextblob.spacytextblob import SpacyTextBlob\n",
    "from wordcloud import WordCloud, STOPWORDS\n",
    "import matplotlib.pyplot as plt\n",
    "import seaborn as sns\n",
    "from PIL import Image\n",
    "from collections import Counter"
   ]
  },
  {
   "cell_type": "markdown",
   "id": "809254e9",
   "metadata": {},
   "source": [
    "## Helper functions"
   ]
  },
  {
   "cell_type": "markdown",
   "id": "78707151",
   "metadata": {},
   "source": [
    "### Remove apostrophies from negotiations (don't, haven't, ...)"
   ]
  },
  {
   "cell_type": "code",
   "execution_count": 2,
   "id": "75eff371",
   "metadata": {},
   "outputs": [],
   "source": [
    "def write_out_negotiations(text):\n",
    "    \n",
    "    # haven't, hasn't\n",
    "\n",
    "    text = re.sub(\"haven't\", \"have not\", text)\n",
    "    text = re.sub(\"Haven't\", \"Have not\", text)\n",
    "    text = re.sub(\"hasn't\", \"has not\", text)\n",
    "    text = re.sub(\"Hasn't\", \"Has not\", text)\n",
    "\n",
    "    ## isn't, can't, don't\n",
    "\n",
    "    text = re.sub(\"mustn't\", \"must not\", text)\n",
    "    text = re.sub(\"Mustn't\", \"Must not\", text)\n",
    "\n",
    "    text = re.sub(\"can'\", \"can not\", text)\n",
    "    text = re.sub(\"Can't\", \"Can not\", text)\n",
    "\n",
    "    text = re.sub(\"isn't\", \"is not\", text)\n",
    "    text = re.sub(\"Isn't\", \"Is not\", text)\n",
    "\n",
    "    text = re.sub(\"aren't\", \"are not\", text)\n",
    "    text = re.sub(\"Aren't\", \"Are not\", text)\n",
    "\n",
    "    text = re.sub(\"don't\", \"do not\", text)\n",
    "    text = re.sub(\"Don't\", \"Do not\", text)\n",
    "\n",
    "    text = re.sub(\"doesn't\", \"does not\", text)\n",
    "    text = re.sub(\"doesn't\", \"does not\", text)\n",
    "\n",
    "    text = re.sub(\"didn't\", \"did not\", text)\n",
    "    text = re.sub(\"Didn't\", \"Did not\", text)\n",
    "\n",
    "    ## wasn't, won't\n",
    "\n",
    "    text = re.sub(\"wasn't\", \"was not\", text)\n",
    "    text = re.sub(\"Wasn't\", \"Was not\", text)\n",
    "\n",
    "    text = re.sub(\"won't\", \"will not\", text)\n",
    "    text = re.sub(\"Won't\", \"Will not\", text)\n",
    "\n",
    "    ## wouldn't, couldn't\n",
    "\n",
    "    text = re.sub(\"couldn't\", \"could not\", text)\n",
    "    text = re.sub(\"shouldn't\", \"should not\", text)\n",
    "    \n",
    "    text = re.sub(\"“\", \"\", text)\n",
    "    text = re.sub(\"”\", \"\", text)\n",
    "    \n",
    "    text = re.sub(r\"\\.\", \"\", text)\n",
    "    text = re.sub(\";\", \"\", text)\n",
    "    text = re.sub(\",\", \"\", text)\n",
    "    \n",
    "    text = re.sub(r\"\\s\\s\", \" \", text)\n",
    "    text = text.strip()\n",
    "    \n",
    "    return text"
   ]
  },
  {
   "cell_type": "code",
   "execution_count": 3,
   "id": "0c2b9410",
   "metadata": {},
   "outputs": [],
   "source": [
    "# get list with all characters\n",
    "characters_list = [\"frodo\", \"gandalf\", \"sam\", \"merry\", \"pippin\", \"aragorn\", \"arwen\", \"eowyn\", \"legolas\", \"gimli\", \"theoden\", \"saruman\", \"gollum\", \"smeagol\", \"sauron\"]"
   ]
  },
  {
   "cell_type": "code",
   "execution_count": 8,
   "id": "7278f7f3",
   "metadata": {},
   "outputs": [],
   "source": [
    "with open(\"data/gandalf.txt\") as f:\n",
    "    gandalf = f.read()\n",
    "    gandalf = write_out_negotiations(gandalf)\n",
    "    gandalf_300_start_list = gandalf.split(' ')[:300]\n",
    "    gandalf_300_end_list = gandalf.split(' ')[-300:]\n",
    "    \n",
    "    gandalf_300_start = \"\"\n",
    "    for word in gandalf_300_start_list:\n",
    "        gandalf_300_start += f'{word} '\n",
    "        \n",
    "with open(\"data/frodo.txt\") as f:\n",
    "    frodo = f.read()\n",
    "    frodo = write_out_negotiations(frodo)\n",
    "    frodo_300_start_list = frodo.split(' ')[:300]\n",
    "    frodo_300_end_list = frodo.split(' ')[-300:]\n",
    "with open(\"data/sam.txt\") as f:\n",
    "    sam = f.read()\n",
    "    sam = write_out_negotiations(sam)\n",
    "    sam_300_start_list = sam.split(' ')[:300]\n",
    "    sam_300_end_list = sam.split(' ')[-300:]\n",
    "with open(\"data/aragorn.txt\") as f:\n",
    "    aragorn = f.read()\n",
    "    aragorn = write_out_negotiations(aragorn)\n",
    "    aragorn_300_start_list = aragorn.split(' ')[:300]\n",
    "    aragorn_300_end_list = aragorn.split(' ')[-300:]\n",
    "with open(\"data/gollum_smeagol.txt\") as f:\n",
    "    gollum_smeagol = f.read()\n",
    "    gollum_smeagol = write_out_negotiations(gollum_smeagol)\n",
    "    gollum_smeagol_300_start_list = gollum_smeagol.split(' ')[:300]\n",
    "    gollum_smeagol_300_end_list = gollum_smeagol.split(' ')[-300:]"
   ]
  },
  {
   "cell_type": "code",
   "execution_count": 9,
   "id": "a6402ec4",
   "metadata": {},
   "outputs": [
    {
     "data": {
      "text/plain": [
       "\"down from the door where it began and i must follow if i can the road goes ever on and on down from the door where it began now far ahead the road has gone and i must follow if i can a wizard is never late frodo baggins nor is he early he arrives precisely when he means to you did not think i'd miss your uncle bilbo's birthday? so how is the old rascal? i hear it's going to be a party of special magnificence well that should please him what? good gracious me indeed if you're referring to the incident with the dragon i was barely involved all i did was give your uncle a little nudge out of the door oh really? so am i dear boy so am i whoa whoa and what about very old friends? bilbo baggins good to see you 111 years old! who would believe it? you have not aged a day just tea thank you just tea thank you no not at all so you mean to go through with your plan? frodo suspects something you will tell him will not you? he's very fond of you whoa up they go! meriadoc brandybuck and peregrin took i might've known i suppose you think that was terribly clever there are many magic rings in this world bilbo baggins and none of them should be used lightly two eyes as often as i can spare them what about this ring of yours? is that staying too? i think you should leave the ring behind bilbo is that so hard? there's no need to get angry precious? it's been called that before but not by you i think you've had that ring quite long enough bilbo baggins! do not take me for some \""
      ]
     },
     "execution_count": 9,
     "metadata": {},
     "output_type": "execute_result"
    }
   ],
   "source": [
    "gandalf_300_start"
   ]
  },
  {
   "cell_type": "markdown",
   "id": "3578b93c",
   "metadata": {},
   "source": [
    "## First Sentiment Analysis test using Spacy TextBlob"
   ]
  },
  {
   "cell_type": "markdown",
   "id": "985dfd1e",
   "metadata": {},
   "source": [
    "Info:\n",
    "* Video: [Sentiment Analysis using Textblob](https://www.youtube.com/watch?v=6bg-TNoT5_Y)\n",
    "* Text Tutorial: [Sentiment Analysis in Python with Textblob](https://stackabuse.com/sentiment-analysis-in-python-with-textblob/)\n",
    "* Doku: [spacytextblob](https://spacy.io/universe/project/spacy-textblob)\n",
    "\n",
    "Prerequisites:\n",
    "spacy, language model \"en_core_web_sm\", textblob, textblob corpus, spacytextblob (spacy pipeline component) installed\n",
    "\n",
    "textblob: `pip3 install -U textblob`\n",
    "textblob corpus: `python -m textblob.download_corpora`\n",
    "spacytextblob: `pip install spacytextblob`"
   ]
  },
  {
   "cell_type": "code",
   "execution_count": 6,
   "id": "4608a92b",
   "metadata": {
    "scrolled": true
   },
   "outputs": [
    {
     "data": {
      "text/plain": [
       "[('tok2vec', <spacy.pipeline.tok2vec.Tok2Vec at 0x2b2d9647fa0>),\n",
       " ('tagger', <spacy.pipeline.tagger.Tagger at 0x2b2d9647b80>),\n",
       " ('parser', <spacy.pipeline.dep_parser.DependencyParser at 0x2b2d9486ce0>),\n",
       " ('senter', <spacy.pipeline.senter.SentenceRecognizer at 0x2b2d9647b20>),\n",
       " ('attribute_ruler',\n",
       "  <spacy.pipeline.attributeruler.AttributeRuler at 0x2b2d9767500>),\n",
       " ('lemmatizer', <spacy.lang.en.lemmatizer.EnglishLemmatizer at 0x2b2d9841ac0>),\n",
       " ('ner', <spacy.pipeline.ner.EntityRecognizer at 0x2b2d9487990>),\n",
       " ('spacytextblob',\n",
       "  <spacytextblob.spacytextblob.SpacyTextBlob at 0x2b2d950e710>)]"
      ]
     },
     "execution_count": 6,
     "metadata": {},
     "output_type": "execute_result"
    }
   ],
   "source": [
    "# load spacy\n",
    "nlp = spacy.load(\"en_core_web_sm\")\n",
    "# add Textblob to pipeline\n",
    "nlp.add_pipe(\"spacytextblob\")\n",
    "# check if added to pipe\n",
    "nlp.components"
   ]
  },
  {
   "cell_type": "markdown",
   "id": "333f3a30",
   "metadata": {},
   "source": [
    "### Frodo"
   ]
  },
  {
   "cell_type": "code",
   "execution_count": 7,
   "id": "b0fd5f7e",
   "metadata": {},
   "outputs": [
    {
     "ename": "NameError",
     "evalue": "name 'frodo_300_start' is not defined",
     "output_type": "error",
     "traceback": [
      "\u001b[1;31m---------------------------------------------------------------------------\u001b[0m",
      "\u001b[1;31mNameError\u001b[0m                                 Traceback (most recent call last)",
      "\u001b[1;32m~\\AppData\\Local\\Temp/ipykernel_4944/2498853429.py\u001b[0m in \u001b[0;36m<module>\u001b[1;34m\u001b[0m\n\u001b[0;32m      1\u001b[0m \u001b[1;31m# make doc of frodo_300_starts dialog text\u001b[0m\u001b[1;33m\u001b[0m\u001b[1;33m\u001b[0m\u001b[0m\n\u001b[1;32m----> 2\u001b[1;33m \u001b[0mdoc_frodo_300_start\u001b[0m \u001b[1;33m=\u001b[0m \u001b[0mnlp\u001b[0m\u001b[1;33m(\u001b[0m\u001b[0mfrodo_300_start\u001b[0m\u001b[1;33m)\u001b[0m\u001b[1;33m\u001b[0m\u001b[1;33m\u001b[0m\u001b[0m\n\u001b[0m\u001b[0;32m      3\u001b[0m \u001b[1;31m# frodo_300_start assessment\u001b[0m\u001b[1;33m\u001b[0m\u001b[1;33m\u001b[0m\u001b[0m\n\u001b[0;32m      4\u001b[0m \u001b[0mfrodo_300_start_sa\u001b[0m \u001b[1;33m=\u001b[0m \u001b[0mdoc_frodo_300_start\u001b[0m\u001b[1;33m.\u001b[0m\u001b[0m_\u001b[0m\u001b[1;33m.\u001b[0m\u001b[0massessments\u001b[0m\u001b[1;33m\u001b[0m\u001b[1;33m\u001b[0m\u001b[0m\n\u001b[0;32m      5\u001b[0m \u001b[0mfrodo_300_start_sa_df\u001b[0m \u001b[1;33m=\u001b[0m \u001b[0mpd\u001b[0m\u001b[1;33m.\u001b[0m\u001b[0mDataFrame\u001b[0m\u001b[1;33m(\u001b[0m\u001b[0mfrodo_300_start_sa\u001b[0m\u001b[1;33m,\u001b[0m \u001b[0mcolumns\u001b[0m\u001b[1;33m=\u001b[0m\u001b[1;33m[\u001b[0m\u001b[1;34m\"Word\"\u001b[0m\u001b[1;33m,\u001b[0m \u001b[1;34m\"Polarity\"\u001b[0m\u001b[1;33m,\u001b[0m \u001b[1;34m\"Subjectivity\"\u001b[0m\u001b[1;33m,\u001b[0m \u001b[1;34m\"wtf\"\u001b[0m\u001b[1;33m]\u001b[0m\u001b[1;33m)\u001b[0m\u001b[1;33m\u001b[0m\u001b[1;33m\u001b[0m\u001b[0m\n",
      "\u001b[1;31mNameError\u001b[0m: name 'frodo_300_start' is not defined"
     ]
    }
   ],
   "source": [
    "# make doc of frodo_300_starts dialog text\n",
    "doc_frodo_300_start = nlp(frodo_300_start)\n",
    "# frodo_300_start assessment\n",
    "frodo_300_start_sa = doc_frodo_300_start._.assessments\n",
    "frodo_300_start_sa_df = pd.DataFrame(frodo_300_start_sa, columns=[\"Word\", \"Polarity\", \"Subjectivity\", \"wtf\"])\n",
    "frodo_300_start_sa_df.insert(0, 'Number', range(1, 1 + len(frodo_300_start_sa_df)))\n",
    "frodo_300_start_sa_df.insert(1, 'Character', 'Frodo')\n",
    "frodo_300_start_sa_df"
   ]
  },
  {
   "cell_type": "code",
   "execution_count": null,
   "id": "8d10295e",
   "metadata": {},
   "outputs": [],
   "source": [
    "# make doc of frodos dialog text\n",
    "doc_frodo = nlp(frodo)\n",
    "# frodo assessment\n",
    "frodo_sa = doc_frodo._.assessments\n",
    "frodo_sa_df = pd.DataFrame(frodo_sa, columns=[\"Word\", \"Polarity\", \"Subjectivity\", \"wtf\"])\n",
    "frodo_sa_df.insert(0, 'Number', range(1, 1 + len(frodo_sa_df)))\n",
    "frodo_sa_df.insert(1, 'Character', 'Frodo')\n",
    "frodo_sa_df"
   ]
  },
  {
   "cell_type": "markdown",
   "id": "7a927df3",
   "metadata": {},
   "source": [
    "### Gandalf"
   ]
  },
  {
   "cell_type": "code",
   "execution_count": null,
   "id": "c86ee1f3",
   "metadata": {},
   "outputs": [],
   "source": [
    "# make doc of gandalfs dialog text\n",
    "doc_gandalf = nlp(gandalf)\n",
    "# gandalf assessment\n",
    "gandalf_sa = doc_gandalf._.assessments\n",
    "gandalf_sa_df = pd.DataFrame(gandalf_sa, columns=[\"Word\", \"Polarity\", \"Subjectivity\", \"wtf\"])\n",
    "gandalf_sa_df.insert(0, 'Number', range(1, 1 + len(gandalf_sa_df)))\n",
    "gandalf_sa_df.insert(1, 'Character', 'Gandalf')"
   ]
  },
  {
   "cell_type": "code",
   "execution_count": null,
   "id": "55839e31",
   "metadata": {},
   "outputs": [],
   "source": [
    "# make doc of gandalfs dialog text\n",
    "doc_gandalf = nlp(gandalf)\n",
    "# gandalf assessment\n",
    "gandalf_sa = doc_gandalf._.assessments\n",
    "gandalf_sa_df = pd.DataFrame(gandalf_sa, columns=[\"Word\", \"Polarity\", \"Subjectivity\", \"wtf\"])\n",
    "gandalf_sa_df.insert(0, 'Number', range(1, 1 + len(gandalf_sa_df)))\n",
    "gandalf_sa_df.insert(1, 'Character', 'Gandalf')"
   ]
  },
  {
   "cell_type": "markdown",
   "id": "c8d4a522",
   "metadata": {},
   "source": [
    "### Sam"
   ]
  },
  {
   "cell_type": "code",
   "execution_count": null,
   "id": "86af743b",
   "metadata": {},
   "outputs": [],
   "source": [
    "# make doc of sams dialog text\n",
    "doc_sam = nlp(sam)\n",
    "# sam assessment\n",
    "sam_sa = doc_sam._.assessments\n",
    "sam_sa_df = pd.DataFrame(sam_sa, columns=[\"Word\", \"Polarity\", \"Subjectivity\", \"wtf\"])\n",
    "sam_sa_df.insert(0, 'Number', range(1, 1 + len(sam_sa_df)))\n",
    "sam_sa_df.insert(1, 'Character', 'Sam')"
   ]
  },
  {
   "cell_type": "code",
   "execution_count": null,
   "id": "c3b39d5e",
   "metadata": {},
   "outputs": [],
   "source": [
    "# make doc of sams dialog text\n",
    "doc_sam = nlp(sam)\n",
    "# sam assessment\n",
    "sam_sa = doc_sam._.assessments\n",
    "sam_sa_df = pd.DataFrame(sam_sa, columns=[\"Word\", \"Polarity\", \"Subjectivity\", \"wtf\"])\n",
    "sam_sa_df.insert(0, 'Number', range(1, 1 + len(sam_sa_df)))\n",
    "sam_sa_df.insert(1, 'Character', 'Sam')"
   ]
  },
  {
   "cell_type": "markdown",
   "id": "bd876fcb",
   "metadata": {},
   "source": [
    "### Aragorn"
   ]
  },
  {
   "cell_type": "code",
   "execution_count": null,
   "id": "5faacaa5",
   "metadata": {},
   "outputs": [],
   "source": [
    "# make doc of aragorns dialog text\n",
    "doc_aragorn = nlp(aragorn)\n",
    "# aragorn assessment\n",
    "aragorn_sa = doc_aragorn._.assessments\n",
    "aragorn_sa_df = pd.DataFrame(aragorn_sa, columns=[\"Word\", \"Polarity\", \"Subjectivity\", \"wtf\"])\n",
    "aragorn_sa_df.insert(0, 'Number', range(1, 1 + len(aragorn_sa_df)))\n",
    "aragorn_sa_df.insert(1, 'Character', 'Aragorn')"
   ]
  },
  {
   "cell_type": "code",
   "execution_count": null,
   "id": "a57a0014",
   "metadata": {},
   "outputs": [],
   "source": [
    "# make doc of aragorns dialog text\n",
    "doc_aragorn = nlp(aragorn)\n",
    "# aragorn assessment\n",
    "aragorn_sa = doc_aragorn._.assessments\n",
    "aragorn_sa_df = pd.DataFrame(aragorn_sa, columns=[\"Word\", \"Polarity\", \"Subjectivity\", \"wtf\"])\n",
    "aragorn_sa_df.insert(0, 'Number', range(1, 1 + len(aragorn_sa_df)))\n",
    "aragorn_sa_df.insert(1, 'Character', 'Aragorn')"
   ]
  },
  {
   "cell_type": "markdown",
   "id": "e352a32f",
   "metadata": {},
   "source": [
    "### Gollum/Smeagol"
   ]
  },
  {
   "cell_type": "code",
   "execution_count": null,
   "id": "5799e5d1",
   "metadata": {},
   "outputs": [],
   "source": [
    "# make doc of gollum_smeagols dialog text\n",
    "doc_gollum_smeagol = nlp(gollum_smeagol)\n",
    "# gollum_smeagol assessment\n",
    "gollum_smeagol_sa = doc_gollum_smeagol._.assessments\n",
    "gollum_smeagol_sa_df = pd.DataFrame(gollum_smeagol_sa, columns=[\"Word\", \"Polarity\", \"Subjectivity\", \"wtf\"])\n",
    "gollum_smeagol_sa_df.insert(0, 'Number', range(1, 1 + len(gollum_smeagol_sa_df)))\n",
    "gollum_smeagol_sa_df.insert(1, 'Character', 'Gollum/Smeagol')"
   ]
  },
  {
   "cell_type": "code",
   "execution_count": null,
   "id": "bae84048",
   "metadata": {},
   "outputs": [],
   "source": [
    "# make doc of gollum_smeagols dialog text\n",
    "doc_gollum_smeagol = nlp(gollum_smeagol)\n",
    "# gollum_smeagol assessment\n",
    "gollum_smeagol_sa = doc_gollum_smeagol._.assessments\n",
    "gollum_smeagol_sa_df = pd.DataFrame(gollum_smeagol_sa, columns=[\"Word\", \"Polarity\", \"Subjectivity\", \"wtf\"])\n",
    "gollum_smeagol_sa_df.insert(0, 'Number', range(1, 1 + len(gollum_smeagol_sa_df)))\n",
    "gollum_smeagol_sa_df.insert(1, 'Character', 'Gollum/Smeagol')"
   ]
  },
  {
   "cell_type": "markdown",
   "id": "21c01005",
   "metadata": {},
   "source": [
    "### Concatenate dataframes"
   ]
  },
  {
   "cell_type": "code",
   "execution_count": null,
   "id": "adfb4eb6",
   "metadata": {},
   "outputs": [],
   "source": [
    "# concat single dataframes to one large dataframe\n",
    "all_characters_sa_list = [frodo_sa_df, sam_sa_df, gandalf_sa_df, aragorn_sa_df, gollum_smeagol_sa_df]\n",
    "all_characters_sa_df = pd.concat(all_characters_sa_list)"
   ]
  },
  {
   "cell_type": "code",
   "execution_count": null,
   "id": "6b4edf11",
   "metadata": {},
   "outputs": [],
   "source": [
    "# reset index\n",
    "all_characters_sa_df = all_characters_sa_df.sort_values(\"Number\")\n",
    "all_characters_sa_df.reset_index(drop=True, inplace=True)\n",
    "all_characters_sa_df"
   ]
  },
  {
   "cell_type": "markdown",
   "id": "dd587a90",
   "metadata": {},
   "source": [
    "### Line plots"
   ]
  },
  {
   "cell_type": "code",
   "execution_count": null,
   "id": "15d99605",
   "metadata": {},
   "outputs": [],
   "source": [
    "# Plot sentiment analysis for all characters\n",
    "plt.figure(figsize=(15,2))\n",
    "all_characters_sa_lineplot = sns.lineplot(x=\"Number\", y=\"Polarity\",\n",
    "             hue=\"Character\",\n",
    "             data=all_characters_sa_df)\n",
    "all_characters_sa_lineplot.set_title(\"Sentiment Analysis Main Characters\", fontsize=20, fontweight=\"bold\")\n",
    "all_characters_sa_lineplot.set_xlabel(\"Verlauf\", fontsize=15, fontweight=\"bold\")\n",
    "all_characters_sa_lineplot.set_ylabel(\"Polarity Index\", fontsize=15, fontweight=\"bold\")"
   ]
  },
  {
   "cell_type": "code",
   "execution_count": null,
   "id": "3ce050d3",
   "metadata": {},
   "outputs": [],
   "source": [
    "# Plot sentiment analysis gandalf\n",
    "plt.figure(figsize=(15,2))\n",
    "gandalf_sa_lineplot = sns.lineplot(x=\"Number\", y=\"Polarity\",\n",
    "             data=gandalf_sa_df)\n",
    "gandalf_sa_lineplot.set_title(\"Sentiment Analysis Gandalf\", fontsize=20, fontweight=\"bold\")\n",
    "gandalf_sa_lineplot.set_xlabel(\"Verlauf\", fontsize=15, fontweight=\"bold\")\n",
    "gandalf_sa_lineplot.set_ylabel(\"Polarity Index\", fontsize=15, fontweight=\"bold\")"
   ]
  },
  {
   "cell_type": "code",
   "execution_count": null,
   "id": "2124ea4d",
   "metadata": {},
   "outputs": [],
   "source": [
    "# Plot sentiment analysis frodo\n",
    "plt.figure(figsize=(15,2))\n",
    "frodo_sa_lineplot = sns.lineplot(x=\"Number\", y=\"Polarity\",\n",
    "             data=frodo_sa_df)\n",
    "frodo_sa_lineplot.set_title(\"Sentiment Analysis Frodo\", fontsize=20, fontweight=\"bold\")\n",
    "frodo_sa_lineplot.set_xlabel(\"Verlauf\", fontsize=15, fontweight=\"bold\")\n",
    "frodo_sa_lineplot.set_ylabel(\"Polarity Index\", fontsize=15, fontweight=\"bold\")"
   ]
  },
  {
   "cell_type": "code",
   "execution_count": null,
   "id": "cc64bf2b",
   "metadata": {
    "scrolled": true
   },
   "outputs": [],
   "source": [
    "# Plot sentiment analysis sam\n",
    "plt.figure(figsize=(15,2))\n",
    "sam_sa_lineplot = sns.lineplot(x=\"Number\", y=\"Polarity\",\n",
    "             data=sam_sa_df)\n",
    "sam_sa_lineplot.set_title(\"Sentiment Analysis Sam\", fontsize=20, fontweight=\"bold\")\n",
    "sam_sa_lineplot.set_xlabel(\"Verlauf\", fontsize=15, fontweight=\"bold\")\n",
    "sam_sa_lineplot.set_ylabel(\"Polarity Index\", fontsize=15, fontweight=\"bold\")"
   ]
  },
  {
   "cell_type": "code",
   "execution_count": null,
   "id": "28bdd84a",
   "metadata": {},
   "outputs": [],
   "source": [
    "# Plot sentiment analysis gollum/smeagol\n",
    "plt.figure(figsize=(15,2))\n",
    "aragorn_sa_lineplot = sns.lineplot(x=\"Number\", y=\"Polarity\",\n",
    "             data=aragorn_sa_df)\n",
    "aragorn_sa_lineplot.set_title(\"Sentiment Analysis Aragorn\", fontsize=20, fontweight=\"bold\")\n",
    "aragorn_sa_lineplot.set_xlabel(\"Verlauf\", fontsize=15, fontweight=\"bold\")\n",
    "aragorn_sa_lineplot.set_ylabel(\"Polarity Index\", fontsize=15, fontweight=\"bold\")"
   ]
  },
  {
   "cell_type": "code",
   "execution_count": null,
   "id": "526a5026",
   "metadata": {},
   "outputs": [],
   "source": [
    "aragorn_sa_df[aragorn_sa_df[\"Polarity\"] > 0.99]"
   ]
  },
  {
   "cell_type": "code",
   "execution_count": null,
   "id": "facc89cb",
   "metadata": {},
   "outputs": [],
   "source": [
    "# Plot sentiment analysis gollum/smeagol\n",
    "plt.figure(figsize=(15,2))\n",
    "gollum_smeagol_sa_lineplot = sns.lineplot(x=\"Number\", y=\"Polarity\",\n",
    "             data=gollum_smeagol_sa_df)\n",
    "gollum_smeagol_sa_lineplot.set_title(\"Sentiment Analysis Gollum/Smeagol\", fontsize=20, fontweight=\"bold\")\n",
    "gollum_smeagol_sa_lineplot.set_xlabel(\"Verlauf\", fontsize=15, fontweight=\"bold\")\n",
    "gollum_smeagol_sa_lineplot.set_ylabel(\"Polarity Index\", fontsize=15, fontweight=\"bold\")"
   ]
  }
 ],
 "metadata": {
  "kernelspec": {
   "display_name": "Python 3 (ipykernel)",
   "language": "python",
   "name": "python3"
  },
  "language_info": {
   "codemirror_mode": {
    "name": "ipython",
    "version": 3
   },
   "file_extension": ".py",
   "mimetype": "text/x-python",
   "name": "python",
   "nbconvert_exporter": "python",
   "pygments_lexer": "ipython3",
   "version": "3.10.0"
  }
 },
 "nbformat": 4,
 "nbformat_minor": 5
}
