{
 "cells": [
  {
   "cell_type": "markdown",
   "metadata": {},
   "source": [
    "# Todo\n",
    "Basic Stats\n",
    "* alle Dialogdaten und alle Skripte in jeweils eine Datei\n",
    "\n",
    "auf Basis der Dialogdaten:\n",
    "* Sprecheranteile der Personen: mit groupby nach Personen -> Wörter zählen (zwischen Leerzeilen) -> Maxi\n",
    "* Dialoge aller Personen extrahieren (Frodo, Sam, Merry, Pippin, Gandalf, Aragorn, Legolas, Gimli, Gollum, Saruman, Sauron) -> Marina\n",
    "* Wordclouds für Personen erstellen -> Marina\n",
    "\n",
    "auf Basis der Regieanweisungen und Dialogdaten\n",
    "* zählen wie häufig die einzelnen Personen erwähnt werden -> Maxi\n",
    "\n",
    "Einarbeitung in Sentiment Analysis"
   ]
  },
  {
   "cell_type": "markdown",
   "metadata": {},
   "source": [
    "# Sentiment Analysis"
   ]
  },
  {
   "cell_type": "code",
   "execution_count": 2,
   "metadata": {},
   "outputs": [],
   "source": [
    "from bs4 import BeautifulSoup\n",
    "import requests\n",
    "import os\n",
    "import re\n",
    "import pandas as pd\n",
    "import numpy as np\n",
    "from textblob import TextBlob\n",
    "import spacy\n",
    "from spacytextblob.spacytextblob import SpacyTextBlob"
   ]
  },
  {
   "cell_type": "code",
   "execution_count": 3,
   "metadata": {},
   "outputs": [
    {
     "data": {
      "text/html": [
       "<div>\n",
       "<style scoped>\n",
       "    .dataframe tbody tr th:only-of-type {\n",
       "        vertical-align: middle;\n",
       "    }\n",
       "\n",
       "    .dataframe tbody tr th {\n",
       "        vertical-align: top;\n",
       "    }\n",
       "\n",
       "    .dataframe thead th {\n",
       "        text-align: right;\n",
       "    }\n",
       "</style>\n",
       "<table border=\"1\" class=\"dataframe\">\n",
       "  <thead>\n",
       "    <tr style=\"text-align: right;\">\n",
       "      <th></th>\n",
       "      <th>ORIG ID</th>\n",
       "      <th>SPEAKER</th>\n",
       "      <th>SUBTITLE TEXT</th>\n",
       "      <th>SCENE</th>\n",
       "      <th>ITUNES CHAPTER</th>\n",
       "    </tr>\n",
       "  </thead>\n",
       "  <tbody>\n",
       "    <tr>\n",
       "      <th>0</th>\n",
       "      <td>NaN</td>\n",
       "      <td>NaN</td>\n",
       "      <td>NaN</td>\n",
       "      <td>NaN</td>\n",
       "      <td>1.0</td>\n",
       "    </tr>\n",
       "    <tr>\n",
       "      <th>1</th>\n",
       "      <td>2</td>\n",
       "      <td>Galadriel VO</td>\n",
       "      <td>The world is changed.</td>\n",
       "      <td>NaN</td>\n",
       "      <td>NaN</td>\n",
       "    </tr>\n",
       "    <tr>\n",
       "      <th>2</th>\n",
       "      <td>4</td>\n",
       "      <td>Galadriel VO</td>\n",
       "      <td>I feel it in the water.</td>\n",
       "      <td>NaN</td>\n",
       "      <td>NaN</td>\n",
       "    </tr>\n",
       "    <tr>\n",
       "      <th>3</th>\n",
       "      <td>6</td>\n",
       "      <td>Galadriel VO</td>\n",
       "      <td>I feel it in the earth.</td>\n",
       "      <td>NaN</td>\n",
       "      <td>NaN</td>\n",
       "    </tr>\n",
       "    <tr>\n",
       "      <th>4</th>\n",
       "      <td>8</td>\n",
       "      <td>Galadriel VO</td>\n",
       "      <td>I smell it in the air.</td>\n",
       "      <td>NaN</td>\n",
       "      <td>NaN</td>\n",
       "    </tr>\n",
       "    <tr>\n",
       "      <th>...</th>\n",
       "      <td>...</td>\n",
       "      <td>...</td>\n",
       "      <td>...</td>\n",
       "      <td>...</td>\n",
       "      <td>...</td>\n",
       "    </tr>\n",
       "    <tr>\n",
       "      <th>1968</th>\n",
       "      <td>1779</td>\n",
       "      <td>Frodo</td>\n",
       "      <td>I don’t suppose we’ll ever see them again.</td>\n",
       "      <td>NaN</td>\n",
       "      <td>NaN</td>\n",
       "    </tr>\n",
       "    <tr>\n",
       "      <th>1969</th>\n",
       "      <td>1780</td>\n",
       "      <td>Sam</td>\n",
       "      <td>We may yet, Mr. Frodo.</td>\n",
       "      <td>NaN</td>\n",
       "      <td>NaN</td>\n",
       "    </tr>\n",
       "    <tr>\n",
       "      <th>1970</th>\n",
       "      <td>1781</td>\n",
       "      <td>Sam</td>\n",
       "      <td>We may.</td>\n",
       "      <td>NaN</td>\n",
       "      <td>NaN</td>\n",
       "    </tr>\n",
       "    <tr>\n",
       "      <th>1971</th>\n",
       "      <td>1782</td>\n",
       "      <td>Frodo</td>\n",
       "      <td>Sam...</td>\n",
       "      <td>NaN</td>\n",
       "      <td>NaN</td>\n",
       "    </tr>\n",
       "    <tr>\n",
       "      <th>1972</th>\n",
       "      <td>1783</td>\n",
       "      <td>Frodo</td>\n",
       "      <td>...I'm glad you're with me.</td>\n",
       "      <td>NaN</td>\n",
       "      <td>NaN</td>\n",
       "    </tr>\n",
       "  </tbody>\n",
       "</table>\n",
       "<p>1973 rows × 5 columns</p>\n",
       "</div>"
      ],
      "text/plain": [
       "     ORIG ID       SPEAKER                               SUBTITLE TEXT SCENE  \\\n",
       "0        NaN           NaN                                         NaN   NaN   \n",
       "1          2  Galadriel VO                       The world is changed.   NaN   \n",
       "2          4  Galadriel VO                     I feel it in the water.   NaN   \n",
       "3          6  Galadriel VO                     I feel it in the earth.   NaN   \n",
       "4          8  Galadriel VO                      I smell it in the air.   NaN   \n",
       "...      ...           ...                                         ...   ...   \n",
       "1968    1779         Frodo  I don’t suppose we’ll ever see them again.   NaN   \n",
       "1969    1780           Sam                      We may yet, Mr. Frodo.   NaN   \n",
       "1970    1781           Sam                                     We may.   NaN   \n",
       "1971    1782         Frodo                                      Sam...   NaN   \n",
       "1972    1783         Frodo                 ...I'm glad you're with me.   NaN   \n",
       "\n",
       "      ITUNES CHAPTER  \n",
       "0                1.0  \n",
       "1                NaN  \n",
       "2                NaN  \n",
       "3                NaN  \n",
       "4                NaN  \n",
       "...              ...  \n",
       "1968             NaN  \n",
       "1969             NaN  \n",
       "1970             NaN  \n",
       "1971             NaN  \n",
       "1972             NaN  \n",
       "\n",
       "[1973 rows x 5 columns]"
      ]
     },
     "execution_count": 3,
     "metadata": {},
     "output_type": "execute_result"
    }
   ],
   "source": [
    "# load reduced data of film 1\n",
    "df_dialog_film_1 = pd.read_csv(\"C:/Users/Marina/Documents/Studium/Master Mainz/MA Digitale Methodik/Ü NLP/Daten von James Tauber/LOTR Subtitles reduced film 1.csv\", sep=\";\")\n",
    "df_dialog_film_1"
   ]
  },
  {
   "cell_type": "code",
   "execution_count": 4,
   "metadata": {},
   "outputs": [
    {
     "data": {
      "text/html": [
       "<div>\n",
       "<style scoped>\n",
       "    .dataframe tbody tr th:only-of-type {\n",
       "        vertical-align: middle;\n",
       "    }\n",
       "\n",
       "    .dataframe tbody tr th {\n",
       "        vertical-align: top;\n",
       "    }\n",
       "\n",
       "    .dataframe thead th {\n",
       "        text-align: right;\n",
       "    }\n",
       "</style>\n",
       "<table border=\"1\" class=\"dataframe\">\n",
       "  <thead>\n",
       "    <tr style=\"text-align: right;\">\n",
       "      <th></th>\n",
       "      <th>ORG ID</th>\n",
       "      <th>SPEAKER</th>\n",
       "      <th>SUBTITLE TEXT</th>\n",
       "      <th>SCENE</th>\n",
       "      <th>ITUNES CHAPTER</th>\n",
       "    </tr>\n",
       "  </thead>\n",
       "  <tbody>\n",
       "    <tr>\n",
       "      <th>0</th>\n",
       "      <td>NaN</td>\n",
       "      <td>NaN</td>\n",
       "      <td>NaN</td>\n",
       "      <td>NaN</td>\n",
       "      <td>1.0</td>\n",
       "    </tr>\n",
       "    <tr>\n",
       "      <th>1</th>\n",
       "      <td>1.0</td>\n",
       "      <td>Gandalf</td>\n",
       "      <td>You cannot pass!</td>\n",
       "      <td>NaN</td>\n",
       "      <td>NaN</td>\n",
       "    </tr>\n",
       "    <tr>\n",
       "      <th>2</th>\n",
       "      <td>1.0</td>\n",
       "      <td>Frodo</td>\n",
       "      <td>Gandalf!</td>\n",
       "      <td>NaN</td>\n",
       "      <td>NaN</td>\n",
       "    </tr>\n",
       "    <tr>\n",
       "      <th>3</th>\n",
       "      <td>2.0</td>\n",
       "      <td>Gandalf</td>\n",
       "      <td>I am a servant of the Secret Fire, wielder of ...</td>\n",
       "      <td>NaN</td>\n",
       "      <td>NaN</td>\n",
       "    </tr>\n",
       "    <tr>\n",
       "      <th>4</th>\n",
       "      <td>3.0</td>\n",
       "      <td>Gandalf</td>\n",
       "      <td>Go back to the Shadow.</td>\n",
       "      <td>NaN</td>\n",
       "      <td>NaN</td>\n",
       "    </tr>\n",
       "    <tr>\n",
       "      <th>...</th>\n",
       "      <td>...</td>\n",
       "      <td>...</td>\n",
       "      <td>...</td>\n",
       "      <td>...</td>\n",
       "      <td>...</td>\n",
       "    </tr>\n",
       "    <tr>\n",
       "      <th>2191</th>\n",
       "      <td>2064.0</td>\n",
       "      <td>Gollum</td>\n",
       "      <td>And then we takes it once they're dead.</td>\n",
       "      <td>NaN</td>\n",
       "      <td>NaN</td>\n",
       "    </tr>\n",
       "    <tr>\n",
       "      <th>2192</th>\n",
       "      <td>2065.0</td>\n",
       "      <td>Smeagol</td>\n",
       "      <td>Once they're dead.</td>\n",
       "      <td>NaN</td>\n",
       "      <td>NaN</td>\n",
       "    </tr>\n",
       "    <tr>\n",
       "      <th>2193</th>\n",
       "      <td>2066.0</td>\n",
       "      <td>Smeagol</td>\n",
       "      <td>Come on, Hobbits. Long ways to go yet.</td>\n",
       "      <td>NaN</td>\n",
       "      <td>NaN</td>\n",
       "    </tr>\n",
       "    <tr>\n",
       "      <th>2194</th>\n",
       "      <td>2067.0</td>\n",
       "      <td>Smeagol</td>\n",
       "      <td>Smeagol will show you the way.</td>\n",
       "      <td>NaN</td>\n",
       "      <td>NaN</td>\n",
       "    </tr>\n",
       "    <tr>\n",
       "      <th>2195</th>\n",
       "      <td>2068.0</td>\n",
       "      <td>Gollum</td>\n",
       "      <td>Follow me.</td>\n",
       "      <td>NaN</td>\n",
       "      <td>NaN</td>\n",
       "    </tr>\n",
       "  </tbody>\n",
       "</table>\n",
       "<p>2196 rows × 5 columns</p>\n",
       "</div>"
      ],
      "text/plain": [
       "      ORG ID  SPEAKER                                      SUBTITLE TEXT  \\\n",
       "0        NaN      NaN                                                NaN   \n",
       "1        1.0  Gandalf                                   You cannot pass!   \n",
       "2        1.0    Frodo                                           Gandalf!   \n",
       "3        2.0  Gandalf  I am a servant of the Secret Fire, wielder of ...   \n",
       "4        3.0  Gandalf                             Go back to the Shadow.   \n",
       "...      ...      ...                                                ...   \n",
       "2191  2064.0   Gollum            And then we takes it once they're dead.   \n",
       "2192  2065.0  Smeagol                                 Once they're dead.   \n",
       "2193  2066.0  Smeagol             Come on, Hobbits. Long ways to go yet.   \n",
       "2194  2067.0  Smeagol                     Smeagol will show you the way.   \n",
       "2195  2068.0   Gollum                                         Follow me.   \n",
       "\n",
       "      SCENE  ITUNES CHAPTER  \n",
       "0       NaN             1.0  \n",
       "1       NaN             NaN  \n",
       "2       NaN             NaN  \n",
       "3       NaN             NaN  \n",
       "4       NaN             NaN  \n",
       "...     ...             ...  \n",
       "2191    NaN             NaN  \n",
       "2192    NaN             NaN  \n",
       "2193    NaN             NaN  \n",
       "2194    NaN             NaN  \n",
       "2195    NaN             NaN  \n",
       "\n",
       "[2196 rows x 5 columns]"
      ]
     },
     "execution_count": 4,
     "metadata": {},
     "output_type": "execute_result"
    }
   ],
   "source": [
    "# load dialog data of script 2\n",
    "df_dialog_film_2 = pd.read_csv(\"C:/Users/Marina/Documents/Studium/Master Mainz/MA Digitale Methodik/Ü NLP/Daten von James Tauber/LOTR Subtitles reduced film 2.csv\", sep=\";\")\n",
    "df_dialog_film_2"
   ]
  },
  {
   "cell_type": "code",
   "execution_count": 5,
   "metadata": {},
   "outputs": [
    {
     "data": {
      "text/html": [
       "<div>\n",
       "<style scoped>\n",
       "    .dataframe tbody tr th:only-of-type {\n",
       "        vertical-align: middle;\n",
       "    }\n",
       "\n",
       "    .dataframe tbody tr th {\n",
       "        vertical-align: top;\n",
       "    }\n",
       "\n",
       "    .dataframe thead th {\n",
       "        text-align: right;\n",
       "    }\n",
       "</style>\n",
       "<table border=\"1\" class=\"dataframe\">\n",
       "  <thead>\n",
       "    <tr style=\"text-align: right;\">\n",
       "      <th></th>\n",
       "      <th>ORG ID</th>\n",
       "      <th>SPEAKER</th>\n",
       "      <th>SUBTITLE TEXT</th>\n",
       "      <th>SCENE</th>\n",
       "      <th>ITUNES CHAPTER</th>\n",
       "    </tr>\n",
       "  </thead>\n",
       "  <tbody>\n",
       "    <tr>\n",
       "      <th>0</th>\n",
       "      <td>NaN</td>\n",
       "      <td>NaN</td>\n",
       "      <td>NaN</td>\n",
       "      <td>NaN</td>\n",
       "      <td>1.0</td>\n",
       "    </tr>\n",
       "    <tr>\n",
       "      <th>1</th>\n",
       "      <td>1.0</td>\n",
       "      <td>Deagol</td>\n",
       "      <td>Sméagol!</td>\n",
       "      <td>NaN</td>\n",
       "      <td>NaN</td>\n",
       "    </tr>\n",
       "    <tr>\n",
       "      <th>2</th>\n",
       "      <td>2.0</td>\n",
       "      <td>Deagol</td>\n",
       "      <td>I've got one!</td>\n",
       "      <td>NaN</td>\n",
       "      <td>NaN</td>\n",
       "    </tr>\n",
       "    <tr>\n",
       "      <th>3</th>\n",
       "      <td>3.0</td>\n",
       "      <td>Deagol</td>\n",
       "      <td>I've got a fish, Smeag. Smeagol!</td>\n",
       "      <td>NaN</td>\n",
       "      <td>NaN</td>\n",
       "    </tr>\n",
       "    <tr>\n",
       "      <th>4</th>\n",
       "      <td>4.0</td>\n",
       "      <td>Smeagol</td>\n",
       "      <td>Pull it in. Go on. Go on. Go on. Pull it in.</td>\n",
       "      <td>NaN</td>\n",
       "      <td>NaN</td>\n",
       "    </tr>\n",
       "    <tr>\n",
       "      <th>...</th>\n",
       "      <td>...</td>\n",
       "      <td>...</td>\n",
       "      <td>...</td>\n",
       "      <td>...</td>\n",
       "      <td>...</td>\n",
       "    </tr>\n",
       "    <tr>\n",
       "      <th>1871</th>\n",
       "      <td>1811.0</td>\n",
       "      <td>Frodo</td>\n",
       "      <td>You will have to be one and whole for many years.</td>\n",
       "      <td>NaN</td>\n",
       "      <td>NaN</td>\n",
       "    </tr>\n",
       "    <tr>\n",
       "      <th>1872</th>\n",
       "      <td>1812.0</td>\n",
       "      <td>Frodo</td>\n",
       "      <td>You have so much to enjoy and to be and to do.</td>\n",
       "      <td>NaN</td>\n",
       "      <td>NaN</td>\n",
       "    </tr>\n",
       "    <tr>\n",
       "      <th>1873</th>\n",
       "      <td>1813.0</td>\n",
       "      <td>Frodo</td>\n",
       "      <td>Your part in the story will go on.</td>\n",
       "      <td>NaN</td>\n",
       "      <td>NaN</td>\n",
       "    </tr>\n",
       "    <tr>\n",
       "      <th>1874</th>\n",
       "      <td>1814.0</td>\n",
       "      <td>Sam</td>\n",
       "      <td>Well...</td>\n",
       "      <td>NaN</td>\n",
       "      <td>NaN</td>\n",
       "    </tr>\n",
       "    <tr>\n",
       "      <th>1875</th>\n",
       "      <td>1815.0</td>\n",
       "      <td>Sam</td>\n",
       "      <td>I'm back.</td>\n",
       "      <td>NaN</td>\n",
       "      <td>NaN</td>\n",
       "    </tr>\n",
       "  </tbody>\n",
       "</table>\n",
       "<p>1876 rows × 5 columns</p>\n",
       "</div>"
      ],
      "text/plain": [
       "      ORG ID  SPEAKER                                      SUBTITLE TEXT  \\\n",
       "0        NaN      NaN                                                NaN   \n",
       "1        1.0   Deagol                                           Sméagol!   \n",
       "2        2.0   Deagol                                      I've got one!   \n",
       "3        3.0   Deagol                   I've got a fish, Smeag. Smeagol!   \n",
       "4        4.0  Smeagol       Pull it in. Go on. Go on. Go on. Pull it in.   \n",
       "...      ...      ...                                                ...   \n",
       "1871  1811.0    Frodo  You will have to be one and whole for many years.   \n",
       "1872  1812.0    Frodo     You have so much to enjoy and to be and to do.   \n",
       "1873  1813.0    Frodo                 Your part in the story will go on.   \n",
       "1874  1814.0      Sam                                            Well...   \n",
       "1875  1815.0      Sam                                          I'm back.   \n",
       "\n",
       "      SCENE  ITUNES CHAPTER  \n",
       "0       NaN             1.0  \n",
       "1       NaN             NaN  \n",
       "2       NaN             NaN  \n",
       "3       NaN             NaN  \n",
       "4       NaN             NaN  \n",
       "...     ...             ...  \n",
       "1871    NaN             NaN  \n",
       "1872    NaN             NaN  \n",
       "1873    NaN             NaN  \n",
       "1874    NaN             NaN  \n",
       "1875    NaN             NaN  \n",
       "\n",
       "[1876 rows x 5 columns]"
      ]
     },
     "execution_count": 5,
     "metadata": {},
     "output_type": "execute_result"
    }
   ],
   "source": [
    "# load dialog data of script 3\n",
    "df_dialog_film_3 = pd.read_csv(\"C:/Users/Marina/Documents/Studium/Master Mainz/MA Digitale Methodik/Ü NLP/Daten von James Tauber/LOTR Subtitles reduced film 3.csv\", sep=\";\")\n",
    "df_dialog_film_3"
   ]
  },
  {
   "cell_type": "markdown",
   "metadata": {},
   "source": [
    "### Helper functions"
   ]
  },
  {
   "cell_type": "markdown",
   "metadata": {},
   "source": [
    "#### Get complete dialog data of a single film"
   ]
  },
  {
   "cell_type": "code",
   "execution_count": 7,
   "metadata": {},
   "outputs": [],
   "source": [
    "def getDialogOfFilm(dfFilm):\n",
    "    film = dfFilm[\"SUBTITLE TEXT\"]\n",
    "    film_text = \"\"\n",
    "    for text in film:\n",
    "        if (not pd.isna(text)):\n",
    "            film_text = f'{film_text} {text}'\n",
    "            # replaces \"... ...\" or \"...\" (and variations with whitespace) with one single space character\n",
    "            film_text = re.sub(r'\\s?\\.\\.\\.\\s?\\.?\\.?\\.?\\s?', \" \", film_text)\n",
    "    return film_text"
   ]
  },
  {
   "cell_type": "code",
   "execution_count": 8,
   "metadata": {},
   "outputs": [
    {
     "data": {
      "text/plain": [
       "\" The world is changed. I feel it in the water. I feel it in the earth. I smell it in the air. Much that once was  is lost. For none now live who remember it. It began with the forging of the Great Rings. Three were given to the Elves: Immortal, wisest and fairest of all beings. Seven to the Dwarf-lords: Great miners and craftsmen of the mountain halls. And nine  nine rings were gifted to the race of Men  who, above all else, desire power. For within these rings was bound the strength and will to govern each race. But they were all of them deceived. For another ring was made. In the land of Mordor, in the fires of Mount Doom  the Dark Lord Sauron forged in secret a Master Ring  to control all others. And into this Ring he poured his cruelty, his malice  and his will to dominate all life. One Ring to rule them all. One by one  the Free Lands of Middle-earth fell to the power of the ring. But there were some who resisted. A Last Alliance of Men and Elves marched against the armies of Mordor. And on the slopes of Mount Doom, they fought for the freedom of Middle-earth. Hold positions! Fire the arrows! Victory was near. But the power of the Ring  could not be undone. It was in this moment  when all hope had faded  that Isildur, son of the king, took up his father’s sword. Sauron, the enemy of the Free Peoples of Middle-earth, was defeated. The Ring passed to Isildur  who had this one chance to destroy evil forever. But the hearts of Men  are easily corrupted. And the Ring of Power has a will of its own. It betrayed Isildur  to his death. And some things that should not have been forgotten  were lost. History became legend  legend became myth. And for two and a half thousand years  the Ring passed out of all knowledge. Until, when chance came  it ensnared a new bearer. My precious. The Ring came to the creature Gollum  who took it deep into the tunnels of the Misty Mountains. And there it consumed him. It came to me. My own. My love. My own. My precious. The ring brought to Gollum unnatural long life. For 500 years it poisoned his mind. And in the gloom of Gollum’s cave, it waited. Darkness crept back into the forests of the world. Rumor grew of a shadow in the East  whispers of a nameless fear. And the ring of power perceived  its time had now come. It abandoned Gollum. But something happened then the ring did not intend. It was picked up by the most unlikely creature imaginable. What’s this? A hobbit. Bilbo Baggins of the Shire. A ring. Lost! My precious is lost! For the time will soon come  when Hobbits will shape the fortunes of all. The 22nd day of September  in the year 1400  by Shire-reckoning. Bag End, Bagshot Row. Hobbiton, Westfarthing  the Shire  Middle-earth. The Third Age of this world. There and Back Again. A Hobbit’s tale. By Bilbo Baggins. Now  where to begin? Ah, yes  “Concerning  Hobbits.” Hobbits have been living and farming in the four Farthings of the Shire  for many hundreds of years  quite content to ignore and be ignored  by the world of the Big Folk. Middle-earth being, after all, full of strange creatures beyond count  Hobbits must seem of little importance  being neither renowned as great warriors  nor counted among the very wise. Frodo! Someone at the door. In fact, it has been remarked by some  that Hobbits’ only real passion is for food. A rather unfair observation  as we have also developed a keen interest in the brewing of ales  and the smoking of pipe-weed. But where our hearts truly lie  is in peace and quiet  and good, tilled earth. For all Hobbits share a love of things that grow. And yes, no doubt to others our ways seem quaint. But today of all days. It is brought home to me  It is no bad thing to celebrate a simple life. Frodo, the door! Sticklebacks. Where is that boy? Frodo! Down from the door where it began And I must follow if I can The road goes ever on and on Down from the door where it began Now far ahead the road has gone And I must follow if I can You’re late. A wizard is never late, Frodo Baggins. Nor is he early. He arrives precisely when he means to. It’s wonderful to see you, Gandalf! You didn’t think I’d miss your Uncle Bilbo’s birthday? So how is the old rascal? I hear it’s going to be a party of special magnificence. You know Bilbo. He’s got the whole piece in an uproar. Well, that should please him. Half the Shire’s been invited. And the rest of them are turning up anyway. And so life in the Shire goes on  very much as it has this past Age  ..full of its own comings and goings, with change coming slowly. If it comes at all. For things are made to endure in the Shire  passing from one generation to the next. There’s always been a Baggins living here under the Hill  in Bag End. And there always will be. To tell you the truth, Bilbo’s been a bit odd lateIy. I mean, more than usual. He’s taken to locking himself in his study. He spends hours and hours poring over old maps when he thinks I’m not looking. Where’s it gone? He’s up to something. All right, then. Keep your secrets. What? But I know you have something to do with it. Good gracious me. Before you came along, we Bagginses were very well thought of. Indeed. Never had any adventures or did anything unexpected. If you’re referring to the incident with the dragon. I was barely involved. All I did was give your uncle a little nudge out of the door. Whatever you did, you’ve been officially labeled a disturber of the peace. Oh, really? Gandalf! Gandalf! Fireworks, Gandalf! Gandalf! Fireworks, Gandalf! Gandalf? I’m glad you’re back. So am I, dear boy. So am I. Whoa, whoa. No, thank you! We don’t want any more visitors, well-wishers or distant relations! And what about very old friends? Gandalf? Bilbo Baggins. My dear Gandalf! Good to see you. 111 years old! Who would believe it? You haven’t aged a day. Come on, come in! Welcome, welcome. Oh, here we are. Tea or maybe something a littIe stronger? I’ve got a few bottles of the old winyard left. 1296. Very good year. Almost as old as I am. It was laid down by my father. What say we open one, eh? Just tea, thank you. I was expecting you sometime last week. Not that it matters. You come and go as you please. Always have and always will. You caught me a bit unprepared I’m afraid. We’ve only got cold chicken and a bit of pickle  There’s some cheese here. No, that won’t do. We’ve got raspberry jam, an apple tart  But not much for afters. Oh, no, we’re all right. I’ve just found some sponge cake. I could make you some eggs if you’d li  Just tea, thank you. Oh, right. You don’t mind if I eat, do you? No, not at all. Bilbo! Bilbo Baggins! I’m not at home! It’s the Sackville-Bagginses. I know you’re in there! They’re after the house. They’ve never forgiven me for living this long. I’ve got to get away from these confounded relatives, hanging on the bell all day  never giving me a moment’s peace. I want to see mountains again. Mountains, Gandalf! And then find somewhere quiet where I can finish my book. Oh, tea. So you mean to go through with your plan? Yes, yes. It’s all in hand. All the arrangements are made. Oh, thank you. Frodo suspects something. Of course he does. He’s a Baggins  not some blockheaded Bracegirdle from Hardbottle. You will tell him, won’t you? Yes, yes. He’s very fond of you. I know. He’d probably come with me if I asked him. I think in his heart, Frodo’s still in love with the Shire. The woods, the fields. Little rivers. I am old, Gandalf. I know I don’t look it, but I’m beginning to feel it in my heart. I feel thin. Sort of stretched  like butter scraped over too much bread. I need a holiday. A very Long holiday. And I don’t expect I shall return. In fact, I mean not to. Old Toby. The finest weed in the Southfarthing. Gandalf, my old friend  this will be a night to remember. Hello, hello. Fatty Bolger. Lovely to see you. Welcome, welcome. Go on, Sam. Ask Rosie for a dance. I think I’ll just have another ale. Oh, no, you don’t. Go on! So there I was  at the mercy of three monstrous trolls. And they were all arguing amongst themselves  about how they were going to cook us. Whether it be turned on a spit, or whether they should sit on us one by one, squash us into jelly. They spent so much time arguing the whithertos and the whyfors  that the sun’s first light crept over the top of the trees  and turned them all to stone! Quickly. Whoa Up they go! No no, the big one — big one Mrs. Bracegirdle, how nice to see you. Welcome, welcome. Are all these children yours? Good gracious, you have been productive. Bilbo? Sackville-Bagginses! Quickly, hide! Thank you, my boy. You’re a good lad, Frodo. I’m very selfish, you know. Yes, I am. Very selfish. I don’t know why I took you in after your mother and father died  but it wasn’t out of charity. I think it was because  of all my numerous relations  you were the one Baggins that showed real spirit. Bilbo, have you been at the Gaffer’s home brew? No. Well, yes, but that’s not the point. The point is, Frodo  you’ll be all right. Done! You’re supposed to stick it in the ground. It is in the ground. Outside! This was your idea. Bilbo. Bilbo, watch out for the dragon! Nonsense. There hasn’t been a dragon in these parts for a thousand years. That was good. Let’s get another one. Meriadoc Brandybuck and Peregrin Took. I might’ve known. Speech, Bilbo! Speech! Speech! My dear Bagginses and Boffins  Tooks and Brandybucks  Grubbs, Chubbs  Hornblowers  Bolgers  Bracegirdles  and Proudfoots. Proudfeet! Today is my 111th birthday! Happy birthday! But alas, eleventh-one years is far too short a time to live among  such excellent and admirable Hobbits. I don’t know half of you half as well as I should like  and I like less than half of you half as well as you deserve. I, uh - I have things to do. I’ve put this off for far too long. I regret to announce this is the end! I’m going now. I bid you all a very fond farewell. Goodbye. I suppose you think that was terribly clever. Come on, Gandalf. Did you see their faces? There are many magic rings in this world, Bilbo Baggins  and none of them should be used lightly. It was just a bit of fun. Oh, you’re probably right, as usual. You will keep an eye on Frodo, won’t you? Two eyes. As often as I can spare them. I’m leaving everything to him. What about this ring of yours? Is that staying too? Yes, yes. It’s in an envelope over there on the mantelpiece. No. Wait, it is  here in my pocket. Isn’t that--? Isn’t that odd, now? Yet, after all, why not? Why shouldn’t I keep it? I think you should leave the ring behind, Bilbo. Is that so hard? Well, no. And yes. Now it comes to it, I don’t feel l ike parting with it. It’s mine. I found it! It came to me! There’s no need to get angry. Well, if I’m angry, it’s your fault! It’s mine. My own. My precious. Precious? It’s been called that before, but not by you. What business is it of yours what I do with my own things? I think you’ve had that ring quite long enough. You want it for yourself! Bilbo Baggins! Do not take me for some conjurer of cheap tricks. I am not trying to rob you. I’m trying to help you. All your long years, we’ve been friends. Trust me as you once did. Let it go. You’re right, Gandalf. The ring must go to Frodo. It’s late. The road is long. Yes, it is time. Bilbo. Hm? The ring is still in your pocket. Ah. Yes. I’ve thought up an ending for my book: “And he lived happily ever after to the end of his days.” And I’m sure you will, my dear friend. Goodbye, Gandalf. Goodbye, dear Bilbo. The road goes ever on and on  Until our next meeting. It’s mine. My own. My precious. Riddles in the dark. Bilbo! Bilbo! My precious. Precious. He’s gone, hasn’t he? He talked for so long about leaving  I didn’t think he’d really do it. Gandalf? Bilbo’s ring. He’s gone to stay with the elves. He’s left you Bag End. Along with all his possessions. The ring is yours now. Put it somewhere out of sight. Where are you going? There are some things that I must see to. What things? Questions. Questions that need answering. You’ve only just arrived. I don’t understand. Neither do I. Keep it secret. Keep it safe. Shire! Baggins! “The year 3434 of the second age. Here follows the account of Isildur, High King of Gondor  and the finding of the ring of power.” “It has come to me. The one ring. It shall be an heirloom of my kingdom. All those who follow in my bloodline shall be bound to its fate  for I will risk no hurt to the ring. It is precious to me  though I buy it with great pain. The markings upon the band begin to fade. The writing, which at first was as clear as red flame, has all but disappeared. A secret now that only fire can tell.” Shire  Baggins. There’s no Bagginses around here. They’re all up in Hobbiton. That way. “Hey ho to the dock I go To heal my heart and drown my woe Rain may fall and wind may blow But there still be  many miles to go Sweet is the sound of the pouring rain And the stream that falls from hill to plain Better than rain or rippling brook Is a mug of beer inside this Took!” There’s been some strange folk crossing the Shire. Dwarves and others of a less than savory nature. War is brewing. The mountains are fair teeming with goblins. Far-off tales and children’s stories, that’s all that is. You’re beginning to sound like that old Bilbo Baggins. Cracked, he was. Young Mr. Frodo here, he’s cracking. And proud of it. Cheers, Gaffer. Aye. Cheers. Well it’s none of our concern what goes on beyond our borders. Keep your nose out of trouble, and no trouble’ll come to you. Good night, lads. Good night. Good night, sweet maiden of the golden ale. Mind who you’re sweet-taking. Don’t worry, Sam. Rosie knows an idiot when she sees one. Does she? Good night, Sam. Good night, Mr. Frodo. Is it secret? Is it safe? What are you doing? Hold out your hand, Frodo. It’s quite cool. What can you see? Can you see anything? Nothing. There’s nothing. Wait. There are markings. It’s some form of Elvish. I can’t read it. There are few who can. The language is that of Mordor, which I will not utter here. Mordor! In the common tongue, it says: “One ring to rule them all  One ring to find them  One ring to bring them all  and in the darkness bind them.” This is the One ring  forged by the Dark Lord Sauron in the fires of Mount Doom. Taken by IsiIdur from the hand of Sauron himself. Bilbo found it. In Gollum’s cave. Yes. For 60 years, the ring lay quiet in Bilbo’s keeping  prolonging his life, delaying old age. But no longer, Frodo. Evil is stirring in Mordor. The ring has awoken. It’s heard its master’s call. But he was destroyed. Sauron was destroyed. No, Frodo. The spirit of Sauron endured. His life force is bound to the ring, and the ring survived. Sauron has returned. His orcs have multiplied. His fortress at Barad-dÃ»r is rebuilt in the land of Mordor. Sauron needs only this ring to cover all the lands in a second darkness. He is seeking it. Seeking it — All his thought is bent on it. For the ring yearns above all else  to return to the hand of its master. They are one  the ring and the Dark Lord. Frodo  he must never find it. All right. We put it away. We keep it hidden. We never speak of it again. No one knows it’s here, do they? Do they, Gandalf? There is one other who knew that Bilbo had the ring. I looked everywhere for the creature Gollum. But the enemy found him first. I don’t know how long they tortured him. But amidst the endless screams and inane babble, they discerned two words: Shire! Baggins! Shire. Baggins. But that would lead them here! Who goes there? Take it, Gandalf! Take it! No, Frodo. You must take it! You cannot offer me this ring! I’m giving it to you! Don’t tempt me, Frodo! I dare not take it. Not even to keep it safe. Understand, Frodo  I would use this ring from a desire to do good. But through me, it would wield a power too great and terrible to imagine. But it cannot stay in the Shire! No No, it can’t. What must I do? You must leave. And leave quickly. Where? Where do I go? Get out of the Shire. Make for the village of Bree. Bree. What about you? I’ll be waiting for you  at the inn of the Prancing Pony. And the ring will be safe there? I don’t know, Frodo. I don’t have any answers. I must see the head of my order. He is both wise and powerful. Trust me, Frodo. He’ll know what to do. You’ll have to leave the name of Baggins behind you. That name is not safe outside the Shire. Travel only by day. And stay off the road. I can cut across country easily enough. My dear Frodo. Hobbits really are amazing creatures. You can learn all that there is to know about their ways in a month. And yet, after a hundred years  they can still surprise you. Get down. Confound it all, Samwise Gamgee! Have you been eavesdropping? I haven’t been dropping no eaves. Honest. I was just cutting the grass under the window there If you follow me. A little late for trimming the verge, don’t you think? I heard raised voices. What did you hear? Speak! Nothing important. That is, I heard a good deal about a ring, and a Dark Lord  and something about the end of the world but  Please, Mr. Gandalf, sir, don’t hurt me. Don’t turn me into anything unnatural. No? Perhaps not. I’ve thought of a better use for you. Come along, Samwise. Keep up. Be careful, both of you. The enemy has many spies in his service: Birds, beasts. Is it safe? Never put it on  for the agents of the Dark Lord will be drawn to its power. Always remember, Frodo  the ring is trying to get back to its master. It wants to be found. This is it. This is what? If I take one more step  it’ll be the farthest away from home I’ve ever been. Come on, Sam. Remember what Bilbo used to say: “It’s a dangerous business, Frodo.” “Going out your door. You step onto the road, and if you don’t keep your feet  there’s no knowing where you might be swept off to.” Sam. Wood-elves. They’re going to the harbor beyond the White Towers. To the Grey Havens. They’re leaving Middle-earth. Never to return. I don’t know why  it makes me sad. Everywhere I lie there’s a dirty great root sticking into my back. Just shut your eyes  and imagine you’re back in your own bed  with a soft mattress and a lovely feather pillow. It’s not working, Mr. Frodo. I’m never going to be able to sleep out here. Me neither, Sam. Smoke rises from the Mountain of Doom. The hour grows late. And Gandalf the Grey rides to Isengard  seeking my counsel. For that is why you have come, is it not? My old friend. Saruman. You are sure of this? Beyond any doubt. So the ring of power has been found. All these long years, it was in the Shire. Under my very nose. Yet you did not have the wit to see it. Your love of the halfling’s leaf has clearly slowed your mind. But we still have time. Time enough to counter Sauron if we act quickly. Time? What time do you think we have? Sauron has regained much of his former strength. He cannot yet take physical form  but his spirit has lost none of its potency. Concealed within his fortress, the Lord of Mordor sees all. His gaze pierces cloud, shadow, earth and flesh. You know of what I speak, Gandalf. A great eye, lidless, wreathed in flame. The eye of Sauron. He is gathering all evil to him. Very soon, he’ll have summoned an army  great enough for an assault upon Middle-earth. You know this? How? I have seen it. A palantir is a dangerous tool, Saruman. Why? Why should we fear to use it? They are not all accounted for, the lost seeing-stones. We do not know who else may be watching. The hour is later than you think. Sauron’s forces are already moving. The Nine have left Minas Morgul. The Nine? They crossed the river Isen on Midsummer’s Eve  disguised as riders in black. They’ve reached the Shire? They will find the ring. And kill the one who carries it. Frodo! You did not seriously think that a hobbit could contend with the will of Sauron? There are none who can. Against the power of Mordor  there can be no victory. We must join with him, Gandalf. We must join with Sauron. It would be wise, my friend. Tell me  friend  when did Saruman the Wise abandon reason for madness? I gave you the chance of  aiding me willingly  but you have elected the way of pain! Mr. Frodo? Frodo? Frodo! I thought I’d lost you. What are you taking about? It’s just something Gandalf said. What did he say? “Don’t you lose him, Samwise Gamgee.” And I don’t mean to. Sam, we’re still in the Shire. What could possibly happen? Frodo. Merry, it’s Frodo Baggins. Hello, Frodo. Get off him. Come on, Frodo. What’s the meaning of this? You’ve been into Farmer Maggot’s crop! You get back here! Get out of my field! You’ll know the devil if I catch up with you! I don’t know why he’s so upset. It’s only a couple of carrots. And some cabbages. And those three bags of potatoes that we lifted last week. And then the mushrooms the week before. Yes, Pippin. My point is  he’s clearly overreacting. Run! Oh, that was close. I think I’ve broken something. Trust a Brandybuck and a Took! What? That was just a detour. A short cut. Short cut to what? Mushrooms! That’s mine. That’s nice, Merry. Here’s a nice one, Sam. I think we should get off the road. Get off the road! Quick! Be quiet! What was that? Anything? Nothing. What is going on? That Black Rider was looking for something. Or someone. Frodo? Get down! I have to leave the Shire. Sam and I must get to Bree. Right. Bucklebury Ferry. Follow me. Run! This way! Follow me! Run! Get the rope, Sam! Frodo! Run, Frodo! Go! Hurry! Frodo, come on! Come on! Faster! Jump! How far to the nearest crossing? The Brandywine Bridge. 20 miles. Come on. What do you want? We’re heading for the Prancing Pony. Hobbits. Four hobbits! What’s more, out of the Shire by your talk. What business brings you to Bree? We wish to stay at the inn. Our business is our own. All right young sir, I meant no offense. It’s my job to ask questions after nightfall. There’s talk of strange folk abroad. Can’t be too careful. Out of the way! Watch where you’re walking. Excuse me. Good evening, little masters. What can I do for you? If you’re looking for accommodation, we got some nice cozy hobbit-sized rooms available. Always proud to cater to little folk, Mister ? Underhill. My name’s Underhill. Underhill, yeah. We’re friends of Gandalf the Grey. Can you tell him we’ve arrived? Gandalf? Gandalf. Oh, yes  I remember. Elderly chap. Big grey beard, pointy hat. Not seen him for six months. What do we do now? Sam  he’ll be here. He’ll come. Get out of my way! What’s that? This, my friend, is a pint. It comes in pints? I’m getting one. You got a whole half already! That fellow’s done nothing but stare at you since we arrived. Excuse me. That man in the corner. Who is he? He’s one of them Rangers. They’re dangerous folk they are, wandering the wilds. What his right name is, I’ve never heard, but ’round here he’s known as Strider. Strider. Baggins  Baggins  Baggins  Baggins  Baggins  Baggins? Sure, I know a Baggins. He’s over there. Frodo Baggins. He’s my second cousin, once removed on his mother’s side  and my third cousin, twice removed  Pippin! Steady on, Frodo. You cannot hide. I see you. There is no life  in the void. Only  death. You draw far too much attention to yourself, “Mr. Underhill.” What do you want? A little more caution from you. That is no trinket you carry. I carry nothing. Indeed. I can avoid being seen if I wish  but to disappear entirely, that is a rare gift. Who are you? Are you frightened? Yes. Not nearly frightened enough. I know what hunts you. Let him go! Or I’ll have you, Longshanks. You have a stout heart, little hobbit. But that will not save you. You can no longer wait for the wizard, Frodo. They’re coming. What are they? They were once men. Great kings of men. Then Sauron the Deceiver gave to them nine rings of power. Blinded by their greed, they took them without question. One by one, falling into darkness. Now they are slaves to his will. They are the NazgÃ»l. Ringwraiths. Neither living nor dead. At all times they feel  the presence of the ring  drawn to the power of the One. They will never stop hunting you. Where are you taking us? Into the wild. How can we know this Strider is a friend of Gandalf? I think a servant of the enemy would look fairer  and feel fouler. He’s foul enough. We have no choice but to trust him. But where is he leading us? To Rivendell, Master Gamgee. To the house of Elrond. Did you hear that? Rivendell. We’re going to see the elves. Gentlemen, we do not stop till nightfall. What about breakfast? You’ve already had it. We’ve had one, yes. What about second breakfast? Don’t think he knows about second breakfast, Pip. What about elevenses? Luncheon? Afternoon tea? Dinner? Supper? He knows about them, doesn’t he? I wouldn’t count on it. Pippin! What do they eat when they can’t get Hobbit? Tinúviel the elven-fair. Immortal maiden elven-wise. About him cast her night-dark hair. And arms like silver glimmering. Who is she? This woman you sing of. ’Tis the Lay of Luthien. The elf-maiden who gave her love to Beren, a mortal. What happened to her? She died. Get some sleep, Frodo. The power of Isengard is at your command  Sauron, Lord of the Earth. Build me an army worthy of Mordor. What orders from Mordor, my lord? What does the Eye command? We have work to do. The trees are strong, my lord. Their roots go deep. Rip them all down. This was the great watchtower of Amon Sûl. We shall rest here tonight. These are for you. Keep them close. I’m going to have a look around. Stay here. My tomato’s burst. Could I have some bacon? Want a tomato, Sam? What are you doing?! Tomatoes, sausages, nice crispy bacon. We saved some for you, Mr. Frodo. Put it out, you fools! Put it out! That’s nice! Ash on my tomatoes! Go! Back, you devils! the Void-in only death Frodo! Oh, Sam. Strider! Help him, Strider. He’s been stabbed by a Morgul blade. This is beyond my skill to heal. He needs elvish medicine. Hurry! We’re six days from Rivendell! He’ll never make it! Hold on, Frodo. Gandalf! Look, Frodo. It’s Mr. Bilbo’s trolls. Mr. Frodo? He’s going cold. Is he going to die? He’s passing into the shadow world. He’ll soon become a wraith like them. They’re close. Sam, do you know the Athelas plant? Athelas? Kingsfoil. Kingsfoil, aye, it’s a weed. It may help to slow the poisoning. Hurry! What’s this, a ranger caught off his guard? Frodo. I am Arwen — I’ve come to help you. Hear my voice, come back to the light. Who is she? Frodo. She’s an elf. He’s fading. He’s not going to last. We must get him to my father. I’ve been looking for you for two days. Where are you taking him? There are five wraiths behind you. Where the other four are, I do not know. Stay with the hobbits, I’ll send horses for you. I will take him. I am the swifter rider. The road is very dangerous. What are they saying? Frodo dies. If I get across the river  the power of my people will protect him. I do not fear them. As you wish. Arwen  ride hard. Don’t Look back. Ride fast, Asfaloth. Ride fast! What are you doing?! Those wraiths are still out there! Ride fast, Asfaloth! Give up the halfling, She-elf. If you want him, come and claim him. Waters of the Misty Mountains  listen to the great word; flow waters of Loudwater against the Ringwraiths. Waters of the Misty Mountains  listen to the great word; flow waters of Loudwater against the Ringwraiths! No. No! Frodo, no. Frodo, don’t give in. Not now. What grace is given me  let it pass to him. Let him be spared. Save him. Hear my voice come back to the light. Where am I? You are in the house of Elrond. And it is 10 o’clock in the morning on October 24th, if you want to know. Gandalf! Yes, I’m here. And you’re lucky to be here too. A few more hours and you would have been beyond our aid. But you have some strength in you, my dear Hobbit. What happened, Gandalf? Why didn’t you meet us? I am sorry, Frodo. I was delayed. A friendship with Saruman is not lightly thrown aside. One ill turn deserves another. It is over. Embrace the power of the ring  or embrace your own destruction! There is only one lord of the ring. Only one who can bend it to his will. And he does not share power. So you have chosen death. Gandalf? What is it? Nothing, Frodo. Frodo! Sam. Bless you, you’re awake! Sam has hardly left your side. We were that worried about you. Weren’t we, Mr. Gandalf? By the skills of Lord Elrond, you’re beginning to mend. Welcome to Rivendell, Frodo Baggins. Bilbo! Hello, Frodo, my lad. Bilbo. There and back again A hobbit’s Tale, by Bilbo Baggins.’’ This is wonderful. I meant to go back  wonder at the powers of Mirkwood  visit Lake-town  see the Lonely Mountain again. But age, it seems, has finally caught up with me. I miss the Shire. I spent all my childhood pretending I was off somewhere else. Off with you, on one of your adventures. But my own adventure turned out to be quite different. I’m not like you, Bilbo. My dear boy. Now, what have I forgotten? Packed already? No harm in being prepared. I thought you wanted to see the elves. I do. More than anything. I did. It’s just  We did what Gandalf wanted, didn’t we? We got the ring this far, to Rivendell. And I thought  seeing as how you’re on the mend, we’d be off soon. Off home. You are right, Sam. We did what we set out to do. The ring will be safe in Rivendell. I am ready to go home. His strength returns. That wound will never fully heal. He will carry it the rest of his life. And yet to have come so far still bearing the ring  the Hobbit has shown extraordinary resilience to its evil. It is a burden he should never have had to bear. We can ask no more of Frodo. Gandalf, the enemy is moving. Sauron’s forces are massing in the East. His eye is fixed on Rivendell. And Saruman, you tell me, has betrayed us. Our list of allies grows thin. His treachery runs deeper than you know. By foul craft, Saruman has crossed orcs with goblin-men. He’s breeding an army in the caverns of Isengard. An army that can move in sunlight and cover great distance at speed. Saruman is coming for the ring. This evil cannot be concealed by the power of the elves. We do not have the strength to fight both Mordor and Isengard! Gandalf  the ring cannot stay here. This peril belongs to all Middle-earth. They must decide now how to end it. The time of the elves is over. My people are leaving these shores. Who will you look to when we’ve gone? The dwarves? They hide in mountains seeking riches. They care not for the troubles of others. It is in men that we must place our hope. Men? Men are weak. The race of men is failing. The blood of Numenor is all but spent, its pride and dignity forgotten. It is because of men the ring survives. I was there, Gandalf. I was there 3000 years ago  when Isildur took the ring. I was there the day the strength of men failed. Isildur, hurry! Follow me. I led Isildur into the heart of Mount Doom  where the ring was forged, the one place it could be destroyed. Cast it into the fire! Destroy it! No. Isildur! It should have ended that day, but evil was allowed to endure. Isildur kept the ring. The line of kings is broken. There’s no strength left in the world of men. They’re scattered, divided, leaderless. There is one who could unite them. One who could reclaim the throne of Gondor. He turned from that path a long time ago. He has chosen exile. You are no elf. Men of the South are welcome here. Who are you? I am a friend to Gandalf the Grey. Then we are here on common purpose  friend. The shards of Narsil. The blade that cut the ring from Sauron’s hand. It’s still sharp. But no more than a broken heirloom. Why do you fear the past? You are Isildur’s heir, not Isildur himseIf. You are not bound to his fate. The same blood flows in my veins. The same weakness. Your time will come. You will face the same evil. And you will defeat it. Till now the Shadow not masters, Aragorn Not over you, not over me. Do you remember when we first met? I thought I had strayed into a dream. Long years have passed. You did not wear the troubles you carry now. Do you remember what I told you? You said you’d bind yourself to me  forsaking the immortal life of your people. And to that I hold. I would rather share one lifetime with you  than face all the ages of this world alone. I choose a mortal life. You cannot give me this. It is mine to give to whom I will  like my heart. Strangers from distant lands, friends of old  you’ve been summoned here to answer the threat of Mordor. Middle-earth stands upon the brink of destruction. None can escape it. You will unite, or you will fall. Each race is bound to this fate, this one doom. Bring forth the ring, Frodo. So it is true. The ring of power  The doom of men  In a dream  I saw the eastern sky grow dark  but in the West a pale light lingered. A voice was crying: “Your doom is near at hand. Isildur’s bane is found.” In your blood Isildur’s bane. Boromir! “One ring to rule them all  One ring to find them  One ring to bring them all  and in the darkness bind them.” Never before has any voice uttered the words of that tongue here in Imladris. I do not ask your pardon, Master Elrond  for the black speech of Mordor  may yet be heard  in every corner of the West! The ring is altogether evil. It is a gift. A gift to the foes of Mordor. Why not use this ring? Long has my father, the Steward of Gondor  kept the forces of Mordor at bay. By the blood of our people  are your lands kept safe. Give Gondor the weapon of the enemy. Let us use it against him. You cannot wield it. None of us can. The one ring answers to Sauron alone. It has no other master. And what would a ranger know of this matter? This is no mere ranger. He is Aragorn, son of Arathorn. You owe him your allegiance. Aragorn. This is Isildur’s heir? And heir to the throne of Gondor. Sit down, Legolas. Gondor has no king. Gondor needs no king. Aragorn is right. We cannot use it. You have only one choice. The ring must be destroyed. Then what are we waiting for? In the Land of Mordor where the Shadows lie The ring cannot be destroyed, Gimli, son of Gloin  by any craft that we here possess. The ring was made in the fires of Mount Doom. One ring to rule them all  Only there can it be unmade. It must be taken deep into Mordor  and cast back into the fiery chasm from whence it came. One ring to find them  One of you  must do this. One does not simply walk into Mordor. Its black gates are guarded by more than just orcs. There is evil there that does not sleep. The great eye is ever-watchful. It is a barren wasteland  riddled with fire, and ash and dust. The very air you breathe is a poisonous fume. Not with 10,000 men could you do this. It is folly. Have you heard nothing Lord Elrond has said? The ring must be destroyed. And I suppose you think you are the one to do it! And if we fail, what then? What happens when Sauron takes back what is his? I will be dead before I see the ring in the hands of an elf! Never trust an elf! Do you not understand? While you bicker amongst yourselves, Sauron’s power grows! None can escape it! You’ll all be destroyed! One ring to rule them all  One ring to find them  One ring to rule them all  One ring to find them  One ring to rule them all  One ring to find them  One ring to rule them all  I will take it. I will take it. I will take the ring to Mordor. Though  I do not know the way. I will help you bear this burden, Frodo Baggins  as long as it is yours to bear. If by my life or death I can protect you  I will. You have my sword. And you have my bow. And my ax. You carry the fates of us all, little one. If this is indeed the will of the Council  then Gondor will see it done. Mr. Frodo’s not going anywhere without me. No indeed it is hardly possible to separate you  even when he is summoned to a secret council and you are not. Oy. We’re coming too! You’ll have to send us home tied up in a sack to stop us. Anyway, you need people of intelligence on this sort of  mission. Quest. Thing. Well, that rules you out, Pip. Nine companions. So be it. You shall be: The Fellowship of the Ring. Great! Where are we going? She wanted to protect her child. She thought in Rivendell you would be safe. In her heart, your mother knew you’d be hunted all your life. That you’d never escape your fate. The skill of the elves can reforge the sword of kings  but only you have the power to wield it. I do not want that power. I have never wanted it. You are the last of that bloodline. There is no other. My old sword! Sting. Here, take it. Take it. It’s so light. Yes, yeah. Made by the elves, you know. The blade glows blue when orcs are close. And it’s times like that, my lad, when you have to be extra careful. Here’s a pretty thing. Mithril. As light as a feather, and as hard as dragon scales. Let me see you put it on. Come on. My old ring. I should very much like  to hold it again, one last time. I’m sorry I brought this upon you, my boy. I’m sorry that you must carry this burden. I’m sorry for everything. The ring-bearer is setting out on the quest of Mount Doom. On you who travel with him, no oath  nor bond is laid to go further than you will. Farewell. Hold to your purpose. May the blessings of elves and men  and all free folk go with you. The fellowship awaits the ring-bearer. Mordor, Gandalf, is it left or right? Left. We must hold to this course, west of the Misty Mountains, for 40 days. If our luck holds, the Gap of Rohan will still be open to us. From there, our road turns east to Mordor. Two, one, five. Good! Very good. Move your feet. You look good, Pippin. Thanks. Faster! If anyone was to ask for my opinion, which I note they’re not  I’d say we were taking the long way ’round. Gandalf. We could pass through the mines of Moria. My cousin Balin would give us a royal welcome. No Gimli, I would not take the road through Moria unless I had no other choice. Sorry! Get him! For the Shire! Hold him. Hold him down, Merry! Gentlemen, that’s enough. You’ve got my arm! You’ve got my arm! What is that? Nothing. It’s just a wisp of cloud. It’s moving fast. Against the wind. Crebain from Dunland! Hide! Merry! Take cover! Spies of Saruman. The passage south is being watched. We must take the pass of Caradhras. Frodo! Boromir. It is a strange fate that we should suffer so much fear and doubt  over so small a thing. Such a little thing. Boromir! Give the ring to Frodo. As you wish. I care not. So, Gandalf, you try to lead them over Caradhras. And if that fails, where then will you go? If the mountain defeats you  will you risk a more dangerous road? Wake up cruel Redhorn! There is a fell voice on the air. May your horn be bloodstained! It’s Saruman! He’s trying to bring down the mountain! Gandalf, we must turn back! No! Sleep Caradhras, be still, lie still, hold your wrath! Wake up cruel Redhorn! May your bloodstained horn  fall upon the enemy-heads! We must get off the mountain! Make for the Gap of Rohan, and take the west road to my city! The Gap of Rohan takes us too close to Isengard! We cannot pass over a mountain. Let us go under it. Let us go through the mines of Moria. Moria. You fear to go into those mines. The dwarves delved too greedily and too deep. You know what they awoke in the darkness of Khazad-dûm: Shadow and flame. Let the ring-bearer decide. We cannot stay here! This will be the death of the hobbits. Frodo? We will go through the mines. So be it. Frodo, come and help an old man. How is your shoulder? Better than it was. And the ring? You feel its power growing, don’t you? I’ve felt it too. You must be careful now. Evil will be drawn to you from outside the fellowship. And, I fear, from within. Who then do I trust? You must trust yourself. Trust your own strengths. What do you mean? There are many powers in this world  for good or for evil. Some are greater than I am. And against some I have not yet been tested. The walls  of Moria. Dwarf doors are invisible when closed. Yes, Gimli, their own masters cannot find them if their secrets are forgotten. Why doesn’t that surprise me? Well, let’s see. “moon-star” It mirrors only starlight and moonlight. It reads; “The Doors of Durin, Lord of Moria. Speak, friend, and enter.” What do you suppose that means? Oh It’s quite simple. If you are a friend, you speak the password and the doors will open. Gate of the elves, open now for me! Doorway of the dwarf-folk  listen to the word of my tongue. Nothing’s happening. I once knew every spell in all the tongues of elves  men and orcs. What are you going to do, then? Knock your head against these doors, Peregrin Took! And if that does not shatter them  and I am allowed a little peace from foolish questions  I will try to find the opening words. Gate of elves  listen to my word  threshold of dwarves! Mines are no place for a pony. Even one so brave as Bill. Bye-bye, Bill. Doorway of the dwarf-folk  Go on, Bill. Go on. Don’t worry, Sam, he knows the way home. Do not disturb the water. Oh, it’s useless. It’s a riddle. “Speak ’friend’ and enter.” What’s the elvish word for “friend”? Mellon. Soon, master elf, you will enjoy the fabled hospitality of the dwarves. Roaring fires, malt beer, ripe meat off the bone! This, my friend, is the home of my cousin Balin. And they call it a mine. A mine! This is no mine. It’s a tomb. No  No! Goblins. We make for the Gap of Rohan. We should never have come here. Now, get out of here. Get out! Frodo! Help! Strider! Help! Get off him! Aragorn! Frodo! Into the mines! Legolas! Into the cave! Run! We now have but one choice. We must face the long dark of Moria. Be on your guard. There are older and fouler things than orcs  in the deep places of the world. Quietly now. It’s a four-day journey to the other side. Let us hope that our presence may go unnoticed. The wealth of Moria was not in gold  or jewels  but mithril. Bilbo had a shirt of mithril rings that Thorin gave him. Oh, that was a kingly gift. Yes. I never told him  but its worth was greater than the value of the Shire. Pippin. I have no memory of this place. Are we Lost? No. I think we are. Gandalf’s thinking. Merry? What? I’m hungry. There’s something down there. It’s Gollum. Gollum? He’s been following us for three days. He escaped the dungeons of Barad-dûr? Escaped  or was set loose. Now the ring has brought him here. He will never be rid of his need for it. He hates and loves the ring, as he hates and loves himseIf. Smeagol’s life is a sad story. Yes, Smeagol he was once called. Before the ring found him. Before it drove him mad. It’s a pity Bilbo didn’t kill him when he had the chance. Pity? It is pity that stayed Bilbo’s hand. Many that live deserve death. Some that die deserve life. Can you give it to them, Frodo? Do not be too eager to deal out death and judgment. Even the very wise cannot see all ends. My heart tells me that Gollum has some part to play yet, for good or ill  before this is over. The pity of Bilbo may rule the fate of many. I wish the ring had never come to me. I wish none of this had happened. So do all who live to see such times. But that is not for them to decide. All we have to decide is what to do with the time that is given to us. There are other forces at work in this world, Frodo, besides the will of evil. Bilbo was meant to find the ring. In which case, you also were meant to have it. And that is an encouraging thought. It’s that way. He’s remembered. No. But the air doesn’t smell so foul down here. If in doubt, Meriadoc, always follow your nose. Let me risk a little more light. Behold  the great realm and dwarf-city of Dwarrowdelf. Now there’s an eye opener, and no mistake. Gimli! No! Oh, no. No. “Here lies Balin  son of Fundin  Lord of Moria.” He is dead, then. It’s as I feared. We must move on. We cannot linger. “They have taken the bridge and the second hall. We have barred the gates  but cannot hold them for long. The ground shakes. Drums  drums in the deep. We cannot get out. A shadow moves in the dark. We cannot get out. They are coming.” Fool of a Took! Throw yourself in next time, and rid us of your stupidity. Frodo! Orcs. Get back! Stay close to Gandalf! They have a cave-troll. Let them come! There is one dwarf yet in Moria who still draws breath. I think I’m getting the hang of this. Frodo! Aragorn! Aragorn! Frodo! Frodo! Oh, no. He’s alive. I’m all right. I’m not hurt. You should be dead. That spear would have skewered a wild boar. I think there’s more to this hobbit than meets the eye. Mithril. You are full of surprises, Master Baggins. To the bridge of Khazad-dûm! This way! What is this new devilry? A Balrog. A demon of the ancient world. This foe is beyond any of you. Run! Quickly! Gandalf. Lead them on, Aragorn. The bridge is near. Do as I say! Swords are no more use here. Gandalf! Merry! Pippin! Sam! Nobody tosses a Dwarf. Not the beard! Steady. Hold on! Hang on! Lean forward! Steady. Come on! Now! Over the bridge! Fly! You cannot pass! Gandalf! I am a servant of the secret fire, wielder of the flame of Anor. The dark fire will not avail you, flame of Udûn! Go back to the Shadow. You — shall not — pass! No! No! Gandalf! Fly, you fools! No! Aragorn! Legolas, get them up. Give them a moment, for pity’s sake! By nightfall, these hills will be swarming with orcs. We must reach the woods of Lothlórien. Come, Boromir. Legolas. Gimli, get them up. On your feet, Sam. Frodo? Frodo! Stay close, young hobbits! They say that a great sorceress lives in these woods. An elf-witch  of terrible power. All who look upon her  fall under her spell. Frodo! And are never seen again. Your coming to us is as the footsteps of doom. You bring great evil here, ring-bearer. Mr. Frodo? Well, here’s one dwarf she won’t ensnare so easily. I have the eyes of a hawk and the ears of a fox. The dwarf breathes so loud, we could have shot him in the dark. Well met, Legolas son of Thranduil. Our fellowship stands in your debt,… Haldir of Lórien. Oh, Aragorn of the Dúnedain  you are known to us. Haldir. So much for the legendary courtesy of the elves! Speak words we can all understand! We have not had dealings with the dwarves since the dark days. And you know what this dwarf says to that? I spit upon your grave! That was not so courteous. You bring great evil with you. You can go no further. We need your protection. The road is very dangerous. Merin le telim. I wish we may come with you. Please, understand. We need your support! Aragorn! I wish we may come with you. The road is very dangerous. Gandalf’s death was not in vain. Nor would he have you give up hope. You carry a heavy burden, Frodo. Don’t carry the weight of the dead. You will follow me. Caras Galadhon. The heart of Elvendom on earth. Realm of the Lord Celeborn and of Galadriel, Lady of Light. The enemy knows you have entered here. What hope you had in secrecy is now gone. Eight there are here, yet nine there were set out from Rivendell. Tell me, where is Gandalf? For I much desire to speak with him. I can no longer see him from afar. Gandalf the Grey did not pass the borders of this land. He has fallen into shadow. He was taken by both shadow and flame. A Balrog of Morgoth. For we went needlessly into the net of Moria. Needless were none of the deeds of Gandalf in life. We do not yet know his full purpose. Do not let the great emptiness of Khazad-dûm fill your heart  Gimli, son of Gloin. For the world has grown full of peril  and in all lands  love is now mingled with grief. What now becomes of this fellowship? Without Gandalf, hope is lost. The quest stands upon the edge of a knife. Stray but a little and it will fail  to the ruin of all. Yet hope remains while the company is true. Do not let your hearts be troubled. Go now and rest  for you are weary with sorrow and much toil. Tonight, you will sleep  Welcome, Frodo of the Shire  one who has seen the eye! A lament for Gandalf. What do they say about him? I have not the heart to tell you. For me, the grief is still too near. I bet they don’t mention his fireworks. There should be a verse about them. The finest rockets ever seen They burst in stars of blue and green Or after thunder, silver showers Came falling like a rain of flowers Oh, that doesn’t do them justice by a long road. Take some rest. These borders are well-protected. I will find no rest here. I heard her voice inside my head. She spoke of my father and the fall of Gondor. She said to me; “Even now there is hope Left.” But I cannot see it. It is long since we had any hope. My father is a noble man. But his rule is failing  and our people lose faith. He looks to me to make things right, and I would do it. I would see the glory of Gondor restored. Have you ever seen it, Aragorn? The white tower of Ecthelion. Glimmering like a spike of pearl and silver. Its banners caught high in the morning breeze. Have you ever been called home  by the clear ringing of silver trumpets? I have seen the white city  long ago. One day, our paths will lead us there. And the tower guard shall take up the call: “The Lords of Gondor have returned.” Will you look into the mirror? What will I see? Even the wisest cannot tell. For the mirror  shows many things. Things that were  things that are  and some things  that have not yet come to pass. I know what it is you saw. For it is also in my mind. It is what will come to pass if you should fail. The fellowship is breaking. It is already begun. He will try to take the ring. You know of whom I speak. One by one, it will destroy them all. If you ask it of me  I will give you the one ring. You offer it to me freely. I do not deny that my heart has greatly desired this. In place of a dark lord, you would have a queen  not dark but beautiful and terrible as the dawn! Treacherous as the sea! Stronger than the foundations of the earth! All shall love me  and despair. I pass the test. I will diminish  and go into the West  and remain Galadriel. I cannot do this alone. You are a ring-bearer, Frodo. To bear a ring of power  is to be alone. This is Nenya, the ring of Adamant. And I am its keeper. This task was appointed to you. And if you do not find a way  no one will. Then I know what I must do. It’s just  I’m afraid to do it. Even the smallest person can change the course of the future. Do you know how the orcs first came into being? They were elves once. Taken by the dark powers  tortured and mutilated. A ruined and terrible form of life. And now  perfected. My fighting Uruk-hai  whom do you serve? Saruman! Hunt them down. Do not stop until, they are found. You do not know pain. You do not know fear. You will taste man-flesh! One of the halflings carries something of great value. Bring them to me alive and unspoiled. Kill the others. Never before have we clad strangers in the garb of our own people. May these cloaks help shield you from unfriendly eyes. Lembas. Elvish waybread. One small bite is enough to fill the stomach of a grown man. How many did you eat? Four. Every league you travel south, the danger will increase. Mordor orcs now hold the eastern shore of the Anduin. Nor will you find safety on the western bank. Strange creatures bearing the mark of the white hand have been seen on our borders. Seldom do orcs journey in the open under the sun, yet these have done so. You are being followed. By river you have the chance of outrunning the enemy to the falls of Rauros. My gift for you, Legolas, is a bow of the Galadhrim. Worthy of the skill of our woodland kin. These are the daggers of the Noldorin. They have already seen service in war. Do not fear, young Peregrin Took. You will find your courage. And for you, Samwise Gamgee  Elven rope made of hithlain. Thank you, my lady. Have you run out of those nice, shiny daggers? And what gift would a dwarf ask of the elves? Nothing. Except to look upon the lady of the Galadhrim one last time  for she is more fair than all the jewels beneath the earth. Actually  There was one thing. No, no, I couIdn’t. It’s quite impossible. Stupid to ask. I have nothing greater to give  than the gift you already bear. For her love  The gift of life of Arwen will dwindle. I wish that she endures, even if we separate  beyond the limits of this world. I wish that she sails to Valinor. That choice is yet before her. You have your own choice to make, Aragorn. To rise above the height of all your fathers since the days of Elendil  or to fall into darkness with all that is left of your kin. Farewell. There is much you have yet to do. We shall not meet again, Elessar. Farewell, Frodo Baggins. I give you the light of Earendil  our most beloved star. May it be a light for you in dark places  when all other lights go out. I have taken my worst wound at this parting  having looked my last upon that which is fairest. Henceforth I will call nothing fair unless it be her gift to me. What was her gift? I asked her for one hair from her golden head. She gave me three. Gollum. He has tracked us since Moria. I had hoped we would lose him on the river. But he’s too clever a waterman. And if he alerts the enemy to our whereabouts  it will make the crossing even more dangerous. Have some food, Mr. Frodo. No, Sam. You haven’t eaten anything all day. You’re not sleeping, neither. Don’t think I haven’t noticed. Mr. Frodo I’m all right. But you’re not. I’m here to help you. I promised Gandalf that I would. You can’t help me, Sam. Not this time. Get some sleep. Minas Tirith is the safer road. You know that. From there we can regroup. Strike out for Mordor from a place of strength. There is no strength in Gondor that can avail us. You were quick enough to trust the elves. Have you so little faith in your own people? Yes, there is weakness. There is frailty. But there is courage also, and honor to be found in men. But you will not see that. You are afraid! All your life, you have hidden in the shadows. Scared of who you are, of what you are. I will not lead the ring within a hundred leagues of your city. Frodo. The Argonath. Long have I desired to look upon the kings of old. My kin. We cross the lake at nightfall. Hide the boats and continue on foot. We approach Mordor from the North. Oh, yes? Just a simple matter of finding our way through Emyn Muil  an impassable labyrinth of razor-sharp rocks. And after that, it gets even better. Festering, stinking marshland as far as the eye can see. That is our road. I suggest you take some rest and recover your strength, Master Dwarf. Recover my  We should Leave now. No. Orcs patrol the eastern shore. We must wait for cover of darkness. It is not the eastern shore that worries me. A shadow and a threat has been growing in my mind. Something draws near. I can feel it. Recover strength? Pay no heed to that, young hobbit. Where’s Frodo? None of us should wander alone. You, least of all. So much depends on you. Frodo? I know why you seek solitude. You suffer. I see it day by day. You sure you do not suffer needlessly? There are other ways, Frodo. Other paths that we might take. I know what you would say. It would seem like wisdom but for the warning in my heart. Warning against what? We’re all afraid, Frodo. But to let that fear drive us, to destroy what hope we have  don’t you see that is madness? There is no other way. I ask only for the strength to defend my people! If you would but lend me the ring. No. Why do you recoil? I am no thief. You are not yourself. What chance do you think you have? They will find you. They will take the ring. And you will beg for death before the end! You fool! It is not yours, save by unhappy chance! It could have been mine. It should be mine! Give it to me! Give it to me! No! Give it to me! No. I see your mind. You will take the ring to Sauron! You will betray us! You’ll go to your death, and the death of us all! Curse you! Curse you and all the halflings! Frodo? Frodo. What have I done? Please, Frodo. Frodo, I’m sorry! Here in void, only death. Frodo? It has taken Boromir. Where is the ring? Stay away! Frodo! I swore to protect you. Can you protect me from yourself? Would you destroy it? Aragorn. Aragorn. Elessar. I would have gone with you to the end. Into the very fires of Mordor. I know. Look after the others. Especially Sam. He will not understand. Go, Frodo! Run. Run! Mr. Frodo! Find the halfling! Find the halfling! Elendil! Aragorn, go! Frodo! Hide here. Quick! Come on! What’s he doing? He’s leaving. No! Pippin! Run, Frodo. Go! Hey! Hey, you! Over here! Hey! Over here! This way! It’s working! I know it’s working! Run! The horn of Gondor. Boromir. Run! No. They took the little ones. Hold still. Frodo. Where is Frodo? I let Frodo go. Then you did what I could not. I tried to take the ring from him. The ring is beyond our reach now. Forgive me. I did not see it. I have failed you all. No, Boromir. You fought bravely. You have kept your honor. Leave it. It is over. The world of men will fall and all will come to darkness  and my city to ruin. I do not know what strength is in my blood  but I swear to you, I will not let the white city fall  nor our people fail. Our people. Our people. I would have followed you, my brother. My captain. My king. Be at peace  son of Gondor. They will look for his coming from the white tower. But he will not return. Frodo! I wish the ring had never come to me. I wish none of this had happened. So do all who live to see such times  but that is not for them to decide. All you have to decide  is what to do with the time that is given to you. Frodo, no! Frodo! Mr. Frodo! No, Sam. Go back, Sam! I’m going to Mordor alone. Of course you are. And I’m coming with you! You can’t swim! Sam! Sam! I made a promise, Mr. Frodo. A promise: “Don’t you leave him, Samwise Gamgee.” And I don’t mean to. I don’t mean to. Oh Sam. Come on. Hurry! Frodo and Sam have reached the eastern shore. You mean not to follow them. Frodo’s fate is no longer in our hands. Then it has all been in vain. The fellowship has failed. Not if we hold true to each other. We will not abandon Merry and Pippin to torment and death. Not while we have strength left. Leave all that can be spared behind. We travel light. Let us hunt some orc. Yes! Mordor. I hope the others find a safer road. Strider will look after them. I don’t suppose we’ll ever see them again. We may yet, Mr. Frodo. We may. Sam  I'm glad you're with me.\""
      ]
     },
     "execution_count": 8,
     "metadata": {},
     "output_type": "execute_result"
    }
   ],
   "source": [
    "# dialog text of film 1\n",
    "film_1_text = getDialogOfFilm(df_dialog_film_1)\n",
    "film_1_text"
   ]
  },
  {
   "cell_type": "markdown",
   "metadata": {},
   "source": [
    "#### Get text data of specific character"
   ]
  },
  {
   "cell_type": "code",
   "execution_count": 10,
   "metadata": {},
   "outputs": [],
   "source": [
    "# takes the name of a character (exactly as spelled in the data frame) and returns all dialog of this character\n",
    "def getTextOfCharacter(dfFilm, character):\n",
    "    character = dfFilm[dfFilm[\"SPEAKER\"] == character]\n",
    "    character_text = \"\"\n",
    "    for text in character[\"SUBTITLE TEXT\"]:\n",
    "        if (not pd.isna(text)):\n",
    "            character_text = f'{character_text} {text}'\n",
    "            # replaces \"... ...\" with space character\n",
    "            character_text = re.sub(r'\\s?\\.\\.\\.\\s?\\.?\\.?\\.?\\s?', \" \", character_text)\n",
    "    return character_text"
   ]
  },
  {
   "cell_type": "code",
   "execution_count": 11,
   "metadata": {},
   "outputs": [
    {
     "data": {
      "text/plain": [
       "\" You’re late. It’s wonderful to see you, Gandalf! You know Bilbo. He’s got the whole piece in an uproar. Half the Shire’s been invited. And the rest of them are turning up anyway. To tell you the truth, Bilbo’s been a bit odd lateIy. I mean, more than usual. He’s taken to locking himself in his study. He spends hours and hours poring over old maps when he thinks I’m not looking. He’s up to something. All right, then. Keep your secrets. But I know you have something to do with it. Before you came along, we Bagginses were very well thought of. Never had any adventures or did anything unexpected. Whatever you did, you’ve been officially labeled a disturber of the peace. Gandalf? I’m glad you’re back. Go on, Sam. Ask Rosie for a dance. Oh, no, you don’t. Go on! Bilbo? Bilbo, have you been at the Gaffer’s home brew? Bilbo. Bilbo, watch out for the dragon! Speech! Bilbo! Bilbo! He’s gone, hasn’t he? He talked for so long about leaving  I didn’t think he’d really do it. Gandalf? Where are you going? What things? You’ve only just arrived. I don’t understand. And proud of it. Cheers, Gaffer. Don’t worry, Sam. Rosie knows an idiot when she sees one. Good night, Sam. What are you doing? Nothing. There’s nothing. Wait. There are markings. It’s some form of Elvish. I can’t read it. Mordor! Bilbo found it. In Gollum’s cave. But he was destroyed. Sauron was destroyed. All right. We put it away. We keep it hidden. We never speak of it again. No one knows it’s here, do they? Do they, Gandalf? Shire. Baggins. But that would lead them here! Take it, Gandalf! Take it! You must take it! I’m giving it to you! But it cannot stay in the Shire! What must I do? Where? Where do I go? Bree. What about you? And the ring will be safe there? I can cut across country easily enough. This is what? Come on, Sam. Remember what Bilbo used to say: “It’s a dangerous business, Frodo.” Sam. Wood-elves. They’re going to the harbor beyond the White Towers. To the Grey Havens. Never to return. Just shut your eyes  and imagine you’re back in your own bed  with a soft mattress and a lovely feather pillow. Me neither, Sam. What are you taking about? What did he say? Sam, we’re still in the Shire. What could possibly happen? What’s the meaning of this? I think we should get off the road. Get off the road! Quick! Nothing. I have to leave the Shire. Sam and I must get to Bree. Go! How far to the nearest crossing? Come on. We’re heading for the Prancing Pony. We wish to stay at the inn. Our business is our own. Excuse me. Underhill. My name’s Underhill. We’re friends of Gandalf the Grey. Can you tell him we’ve arrived? Sam  he’ll be here. He’ll come. Excuse me. That man in the corner. Who is he? Strider. Pippin! What do you want? I carry nothing. Who are you? Yes. What are they? Where are you taking us? I think a servant of the enemy would look fairer  and feel fouler. We have no choice but to trust him. Who is she? This woman you sing of. What happened to her? What are you doing?! Put it out, you fools! Put it out! Go! Oh, Sam. Gandalf! Where am I? Gandalf! What happened, Gandalf? Why didn’t you meet us? Gandalf? What is it? Sam. Bilbo! Bilbo. There and back again A hobbit’s Tale, by Bilbo Baggins.’’ This is wonderful. I miss the Shire. I spent all my childhood pretending I was off somewhere else. Off with you, on one of your adventures. But my own adventure turned out to be quite different. I’m not like you, Bilbo. Packed already? I thought you wanted to see the elves. More than anything. You are right, Sam. We did what we set out to do. The ring will be safe in Rivendell. I am ready to go home. I will take it. I will take it. I will take the ring to Mordor. Though  I do not know the way. It’s so light. Mordor, Gandalf, is it left or right? We will go through the mines. Better than it was. Who then do I trust? What do you mean? It’s a riddle. “Speak ’friend’ and enter.” What’s the elvish word for “friend”? Help! Help! There’s something down there. Gollum? He escaped the dungeons of Barad-dûr? It’s a pity Bilbo didn’t kill him when he had the chance. I wish the ring had never come to me. I wish none of this had happened. Aragorn! Aragorn! I’m all right. I’m not hurt. Gandalf! Gandalf! No! What will I see? I cannot do this alone. Then I know what I must do. It’s just  I’m afraid to do it. No, Sam. I’m all right. You can’t help me, Sam. Not this time. Get some sleep. I know what you would say. It would seem like wisdom but for the warning in my heart. There is no other way. No. You are not yourself. No! No. It has taken Boromir. Stay away! Can you protect me from yourself? Would you destroy it? I know. Look after the others. Especially Sam. He will not understand. No, Sam. Go back, Sam! I’m going to Mordor alone. You can’t swim! Sam! Sam! Oh Sam. Come on. Mordor. I hope the others find a safer road. I don’t suppose we’ll ever see them again. Sam  I'm glad you're with me.\""
      ]
     },
     "execution_count": 11,
     "metadata": {},
     "output_type": "execute_result"
    }
   ],
   "source": [
    "# Frodo's dialog text\n",
    "frodo = getTextOfCharacter(df_dialog_film_1, \"Frodo\")\n",
    "frodo"
   ]
  },
  {
   "cell_type": "code",
   "execution_count": 12,
   "metadata": {},
   "outputs": [
    {
     "data": {
      "text/plain": [
       "' Down from the door where it began And I must follow if I can The road goes ever on and on Down from the door where it began Now far ahead the road has gone And I must follow if I can A wizard is never late, Frodo Baggins. Nor is he early. He arrives precisely when he means to. You didn’t think I’d miss your Uncle Bilbo’s birthday? So how is the old rascal? I hear it’s going to be a party of special magnificence. Well, that should please him. What? Good gracious me. Indeed. If you’re referring to the incident with the dragon. I was barely involved. All I did was give your uncle a little nudge out of the door. Oh, really? So am I, dear boy. So am I. Whoa, whoa. And what about very old friends? Bilbo Baggins. Good to see you. 111 years old! Who would believe it? You haven’t aged a day. Just tea, thank you. Just tea, thank you. No, not at all. So you mean to go through with your plan? Frodo suspects something. You will tell him, won’t you? He’s very fond of you. Whoa Up they go! Meriadoc Brandybuck and Peregrin Took. I might’ve known. I suppose you think that was terribly clever. There are many magic rings in this world, Bilbo Baggins  and none of them should be used lightly. Two eyes. As often as I can spare them. What about this ring of yours? Is that staying too? I think you should leave the ring behind, Bilbo. Is that so hard? There’s no need to get angry. Precious? It’s been called that before, but not by you. I think you’ve had that ring quite long enough. Bilbo Baggins! Do not take me for some conjurer of cheap tricks. I am not trying to rob you. I’m trying to help you. All your long years, we’ve been friends. Trust me as you once did. Let it go. Bilbo. The ring is still in your pocket. And I’m sure you will, my dear friend. Goodbye, dear Bilbo. Until our next meeting. Riddles in the dark. My precious. Precious. Bilbo’s ring. He’s gone to stay with the elves. He’s left you Bag End. Along with all his possessions. The ring is yours now. Put it somewhere out of sight. There are some things that I must see to. Questions. Questions that need answering. Neither do I. Keep it secret. Keep it safe. “The year 3434 of the second age. Here follows the account of Isildur, High King of Gondor  and the finding of the ring of power.” “It has come to me. The one ring. It shall be an heirloom of my kingdom. All those who follow in my bloodline shall be bound to its fate  for I will risk no hurt to the ring. It is precious to me  though I buy it with great pain. The markings upon the band begin to fade. The writing, which at first was as clear as red flame, has all but disappeared. A secret now that only fire can tell.” Is it secret? Is it safe? Hold out your hand, Frodo. It’s quite cool. What can you see? Can you see anything? There are few who can. The language is that of Mordor, which I will not utter here. In the common tongue, it says: “One ring to rule them all  One ring to find them  One ring to bring them all  and in the darkness bind them.” This is the One ring  forged by the Dark Lord Sauron in the fires of Mount Doom. Taken by IsiIdur from the hand of Sauron himself. Yes. For 60 years, the ring lay quiet in Bilbo’s keeping  prolonging his life, delaying old age. But no longer, Frodo. Evil is stirring in Mordor. The ring has awoken. It’s heard its master’s call. No, Frodo. The spirit of Sauron endured. His life force is bound to the ring, and the ring survived. Sauron has returned. His orcs have multiplied. His fortress at Barad-dÃ»r is rebuilt in the land of Mordor. Sauron needs only this ring to cover all the lands in a second darkness. He is seeking it. Seeking it — All his thought is bent on it. For the ring yearns above all else  to return to the hand of its master. They are one  the ring and the Dark Lord. Frodo  he must never find it. There is one other who knew that Bilbo had the ring. I looked everywhere for the creature Gollum. But the enemy found him first. I don’t know how long they tortured him. But amidst the endless screams and inane babble, they discerned two words: No, Frodo. You cannot offer me this ring! Don’t tempt me, Frodo! I dare not take it. Not even to keep it safe. Understand, Frodo  I would use this ring from a desire to do good. But through me, it would wield a power too great and terrible to imagine. No No, it can’t. You must leave. And leave quickly. Get out of the Shire. Make for the village of Bree. I’ll be waiting for you  at the inn of the Prancing Pony. I don’t know, Frodo. I don’t have any answers. I must see the head of my order. He is both wise and powerful. Trust me, Frodo. He’ll know what to do. You’ll have to leave the name of Baggins behind you. That name is not safe outside the Shire. Travel only by day. And stay off the road. My dear Frodo. Hobbits really are amazing creatures. You can learn all that there is to know about their ways in a month. And yet, after a hundred years  they can still surprise you. Get down. Confound it all, Samwise Gamgee! Have you been eavesdropping? A little late for trimming the verge, don’t you think? What did you hear? Speak! No? Perhaps not. I’ve thought of a better use for you. Come along, Samwise. Keep up. Be careful, both of you. The enemy has many spies in his service: Birds, beasts. Is it safe? Never put it on  for the agents of the Dark Lord will be drawn to its power. Always remember, Frodo  the ring is trying to get back to its master. It wants to be found. Saruman. Beyond any doubt. All these long years, it was in the Shire. Under my very nose. But we still have time. Time enough to counter Sauron if we act quickly. The eye of Sauron. You know this? How? A palantir is a dangerous tool, Saruman. They are not all accounted for, the lost seeing-stones. We do not know who else may be watching. The Nine? They’ve reached the Shire? Frodo! Tell me  friend  when did Saruman the Wise abandon reason for madness? You are in the house of Elrond. And it is 10 o’clock in the morning on October 24th, if you want to know. Yes, I’m here. And you’re lucky to be here too. A few more hours and you would have been beyond our aid. But you have some strength in you, my dear Hobbit. I am sorry, Frodo. I was delayed. A friendship with Saruman is not lightly thrown aside. There is only one lord of the ring. Only one who can bend it to his will. And he does not share power. Nothing, Frodo. Sam has hardly left your side. By the skills of Lord Elrond, you’re beginning to mend. That wound will never fully heal. He will carry it the rest of his life. It is a burden he should never have had to bear. We can ask no more of Frodo. His treachery runs deeper than you know. By foul craft, Saruman has crossed orcs with goblin-men. He’s breeding an army in the caverns of Isengard. An army that can move in sunlight and cover great distance at speed. Saruman is coming for the ring. It is in men that we must place our hope. There is one who could unite them. One who could reclaim the throne of Gondor. “One ring to rule them all  One ring to find them  One ring to bring them all  and in the darkness bind them.” I do not ask your pardon, Master Elrond  for the black speech of Mordor  may yet be heard  in every corner of the West! The ring is altogether evil. Aragorn is right. We cannot use it. Do you not understand? While you bicker amongst yourselves, Sauron’s power grows! None can escape it! You’ll all be destroyed! I will help you bear this burden, Frodo Baggins  as long as it is yours to bear. The fellowship awaits the ring-bearer. Left. No Gimli, I would not take the road through Moria unless I had no other choice. Spies of Saruman. The passage south is being watched. We must take the pass of Caradhras. It’s Saruman! No! Sleep Caradhras, be still, lie still, hold your wrath! Let the ring-bearer decide. Frodo? So be it. Frodo, come and help an old man. How is your shoulder? And the ring? You feel its power growing, don’t you? I’ve felt it too. You must be careful now. Evil will be drawn to you from outside the fellowship. And, I fear, from within. You must trust yourself. Trust your own strengths. There are many powers in this world  for good or for evil. Some are greater than I am. And against some I have not yet been tested. Yes, Gimli, their own masters cannot find them if their secrets are forgotten. Well, let’s see. “moon-star” It mirrors only starlight and moonlight. It reads; “The Doors of Durin, Lord of Moria. Speak, friend, and enter.” Oh It’s quite simple. If you are a friend, you speak the password and the doors will open. Gate of the elves, open now for me! Doorway of the dwarf-folk  listen to the word of my tongue. I once knew every spell in all the tongues of elves  men and orcs. Knock your head against these doors, Peregrin Took! And if that does not shatter them  and I am allowed a little peace from foolish questions  I will try to find the opening words. Gate of elves  listen to my word  threshold of dwarves! Doorway of the dwarf-folk  Oh, it’s useless. Mellon. Into the mines! We now have but one choice. We must face the long dark of Moria. Be on your guard. There are older and fouler things than orcs  in the deep places of the world. Quietly now. It’s a four-day journey to the other side. Let us hope that our presence may go unnoticed. The wealth of Moria was not in gold  or jewels  but mithril. Bilbo had a shirt of mithril rings that Thorin gave him. Yes. I never told him  but its worth was greater than the value of the Shire. I have no memory of this place. It’s Gollum. He’s been following us for three days. Escaped  or was set loose. Now the ring has brought him here. He will never be rid of his need for it. He hates and loves the ring, as he hates and loves himseIf. Smeagol’s life is a sad story. Yes, Smeagol he was once called. Before the ring found him. Before it drove him mad. Pity? It is pity that stayed Bilbo’s hand. Many that live deserve death. Some that die deserve life. Can you give it to them, Frodo? Do not be too eager to deal out death and judgment. Even the very wise cannot see all ends. My heart tells me that Gollum has some part to play yet, for good or ill  before this is over. The pity of Bilbo may rule the fate of many. So do all who live to see such times. But that is not for them to decide. All we have to decide is what to do with the time that is given to us. There are other forces at work in this world, Frodo, besides the will of evil. Bilbo was meant to find the ring. In which case, you also were meant to have it. And that is an encouraging thought. It’s that way. No. But the air doesn’t smell so foul down here. If in doubt, Meriadoc, always follow your nose. Let me risk a little more light. Behold  the great realm and dwarf-city of Dwarrowdelf. Gimli! “Here lies Balin  son of Fundin  Lord of Moria.” He is dead, then. It’s as I feared. “They have taken the bridge and the second hall. We have barred the gates  but cannot hold them for long. The ground shakes. Drums  drums in the deep. We cannot get out. A shadow moves in the dark. We cannot get out. They are coming.” Fool of a Took! Throw yourself in next time, and rid us of your stupidity. I think there’s more to this hobbit than meets the eye. To the bridge of Khazad-dûm! This way! A Balrog. A demon of the ancient world. This foe is beyond any of you. Run! Quickly! Lead them on, Aragorn. The bridge is near. Do as I say! Swords are no more use here. Over the bridge! Fly! You cannot pass! I am a servant of the secret fire, wielder of the flame of Anor. The dark fire will not avail you, flame of Udûn! Go back to the Shadow. You — shall not — pass! Fly, you fools!'"
      ]
     },
     "execution_count": 12,
     "metadata": {},
     "output_type": "execute_result"
    }
   ],
   "source": [
    "# Gandalf's dialog text\n",
    "gandalf = getTextOfCharacter(df_dialog_film_1, \"Gandalf\")\n",
    "gandalf"
   ]
  },
  {
   "cell_type": "markdown",
   "metadata": {},
   "source": [
    "## First Sentiment Analysis test using TextBlob"
   ]
  },
  {
   "cell_type": "markdown",
   "metadata": {},
   "source": [
    "Info:\n",
    "* Video: [Sentiment Analysis using Textblob](https://www.youtube.com/watch?v=6bg-TNoT5_Y)\n",
    "* Text Tutorial: [Sentiment Analysis in Python with Textblob](https://stackabuse.com/sentiment-analysis-in-python-with-textblob/)\n",
    "* Doku: [spacytextblob](https://spacy.io/universe/project/spacy-textblob)\n",
    "\n",
    "Prerequisites:\n",
    "spacy, language model \"en_core_web_sm\", textblob, textblob corpus, spacytextblob (spacy pipeline component) installed\n",
    "\n",
    "textblob: `pip3 install -U textblob`\n",
    "textblob corpus: `python -m textblob.download_corpora`\n",
    "spacytextblob: `pip install spacytextblob`"
   ]
  },
  {
   "cell_type": "code",
   "execution_count": 13,
   "metadata": {},
   "outputs": [],
   "source": [
    "# load spacy\n",
    "nlp = spacy.load(\"en_core_web_sm\")"
   ]
  },
  {
   "cell_type": "code",
   "execution_count": 14,
   "metadata": {},
   "outputs": [
    {
     "data": {
      "text/plain": [
       "[('tok2vec', <spacy.pipeline.tok2vec.Tok2Vec at 0x127c25a7e20>),\n",
       " ('tagger', <spacy.pipeline.tagger.Tagger at 0x127c242e400>),\n",
       " ('parser', <spacy.pipeline.dep_parser.DependencyParser at 0x127c24a6ba0>),\n",
       " ('senter', <spacy.pipeline.senter.SentenceRecognizer at 0x127c25a7fa0>),\n",
       " ('attribute_ruler',\n",
       "  <spacy.pipeline.attributeruler.AttributeRuler at 0x127c273a840>),\n",
       " ('lemmatizer', <spacy.lang.en.lemmatizer.EnglishLemmatizer at 0x127c24c7840>),\n",
       " ('ner', <spacy.pipeline.ner.EntityRecognizer at 0x127c24a6d60>)]"
      ]
     },
     "execution_count": 14,
     "metadata": {},
     "output_type": "execute_result"
    }
   ],
   "source": [
    "# show current spacy pipeline\n",
    "nlp.components"
   ]
  },
  {
   "cell_type": "code",
   "execution_count": 15,
   "metadata": {},
   "outputs": [
    {
     "data": {
      "text/plain": [
       "<spacytextblob.spacytextblob.SpacyTextBlob at 0x127c2e6c5b0>"
      ]
     },
     "execution_count": 15,
     "metadata": {},
     "output_type": "execute_result"
    }
   ],
   "source": [
    "# add Textblob to pipeline\n",
    "nlp.add_pipe(\"spacytextblob\")"
   ]
  },
  {
   "cell_type": "code",
   "execution_count": 16,
   "metadata": {},
   "outputs": [
    {
     "data": {
      "text/plain": [
       "[('tok2vec', <spacy.pipeline.tok2vec.Tok2Vec at 0x127c25a7e20>),\n",
       " ('tagger', <spacy.pipeline.tagger.Tagger at 0x127c242e400>),\n",
       " ('parser', <spacy.pipeline.dep_parser.DependencyParser at 0x127c24a6ba0>),\n",
       " ('senter', <spacy.pipeline.senter.SentenceRecognizer at 0x127c25a7fa0>),\n",
       " ('attribute_ruler',\n",
       "  <spacy.pipeline.attributeruler.AttributeRuler at 0x127c273a840>),\n",
       " ('lemmatizer', <spacy.lang.en.lemmatizer.EnglishLemmatizer at 0x127c24c7840>),\n",
       " ('ner', <spacy.pipeline.ner.EntityRecognizer at 0x127c24a6d60>),\n",
       " ('spacytextblob',\n",
       "  <spacytextblob.spacytextblob.SpacyTextBlob at 0x127c2e6c5b0>)]"
      ]
     },
     "execution_count": 16,
     "metadata": {},
     "output_type": "execute_result"
    }
   ],
   "source": [
    "# check if added to pipe\n",
    "nlp.components"
   ]
  },
  {
   "cell_type": "markdown",
   "metadata": {},
   "source": [
    "#### Sentiment Analysis with test text"
   ]
  },
  {
   "cell_type": "code",
   "execution_count": 17,
   "metadata": {},
   "outputs": [],
   "source": [
    "# test text\n",
    "text = \"I love the lord of the rings. But I hate Sauron.\"\n",
    "\n",
    "# doc of test text\n",
    "doc = nlp(text)"
   ]
  },
  {
   "cell_type": "code",
   "execution_count": 18,
   "metadata": {},
   "outputs": [
    {
     "data": {
      "text/plain": [
       "-0.15000000000000002"
      ]
     },
     "execution_count": 18,
     "metadata": {},
     "output_type": "execute_result"
    }
   ],
   "source": [
    "# Sentiment Analysis: check polarity\n",
    "# from -1.0 to 1.0\n",
    "doc._.polarity"
   ]
  },
  {
   "cell_type": "code",
   "execution_count": 19,
   "metadata": {},
   "outputs": [
    {
     "data": {
      "text/plain": [
       "0.75"
      ]
     },
     "execution_count": 19,
     "metadata": {},
     "output_type": "execute_result"
    }
   ],
   "source": [
    "# Sentiment Analysis: check objectivity/subjectivity\n",
    "doc._.subjectivity"
   ]
  },
  {
   "cell_type": "code",
   "execution_count": 20,
   "metadata": {},
   "outputs": [
    {
     "data": {
      "text/plain": [
       "[(['love'], 0.5, 0.6, None), (['hate'], -0.8, 0.9, None)]"
      ]
     },
     "execution_count": 20,
     "metadata": {},
     "output_type": "execute_result"
    }
   ],
   "source": [
    "# complete Sentiment Analysis\n",
    "doc._.assessments\n",
    "# Output: [(['love'], 0.5, 0.6, None)]\n",
    "# ausschlaggebendes Wort, polarity, subjectivity"
   ]
  },
  {
   "cell_type": "markdown",
   "metadata": {},
   "source": [
    "#### Sentiment Analysis zu Frodos Text "
   ]
  },
  {
   "cell_type": "code",
   "execution_count": 21,
   "metadata": {},
   "outputs": [
    {
     "data": {
      "text/plain": [
       "[(['late'], -0.3, 0.6, None),\n",
       " (['wonderful', '!'], 1.0, 1.0, None),\n",
       " (['whole'], 0.2, 0.4, None),\n",
       " (['half'], -0.16666666666666666, 0.16666666666666666, None),\n",
       " (['odd'], -0.16666666666666666, 0.25, None),\n",
       " (['mean'], -0.3125, 0.6875, None),\n",
       " (['more'], 0.5, 0.5, None),\n",
       " (['usual'], -0.25, 0.25, None),\n",
       " (['old'], 0.1, 0.2, None),\n",
       " (['right'], 0.2857142857142857, 0.5357142857142857, None),\n",
       " (['very'], 0.2, 0.3, None),\n",
       " (['unexpected'], 0.1, 1.0, None),\n",
       " (['glad'], 0.5, 1.0, None),\n",
       " (['back', '!', '!', '!', '!', '!'], 0.0, 0.0, None),\n",
       " (['long'], -0.05, 0.4, None),\n",
       " (['really'], 0.2, 0.2, None),\n",
       " (['only'], 0.0, 1.0, None),\n",
       " (['proud'], 0.8, 1.0, None),\n",
       " (['idiot'], -0.8, 0.8, None),\n",
       " (['good', '!'], 0.875, 0.6000000000000001, None),\n",
       " (['right'], 0.2857142857142857, 0.5357142857142857, None),\n",
       " (['hidden', '!', '!', '!', '!', '!', '!'],\n",
       "  -0.6357828776041665,\n",
       "  0.3333333333333333,\n",
       "  None),\n",
       " (['safe'], 0.5, 0.5, None),\n",
       " (['easily', 'enough'], 0.0, 0.5, None),\n",
       " (['dangerous'], -0.6, 0.9, None),\n",
       " (['white'], 0.0, 0.0, None),\n",
       " (['grey'], -0.05, 0.1, None),\n",
       " (['back'], 0.0, 0.0, None),\n",
       " (['own'], 0.6, 1.0, None),\n",
       " (['soft'], 0.1, 0.35, None),\n",
       " (['lovely'], 0.5, 0.75, None),\n",
       " (['possibly', '!'], 0.0, 1.0, None),\n",
       " (['quick', '!', '!'], 0.5208333333333333, 0.5, None),\n",
       " (['far'], 0.1, 1.0, None),\n",
       " (['own'], 0.6, 1.0, None),\n",
       " (['excuse'], -0.05, 0.05, None),\n",
       " (['grey'], -0.05, 0.1, None),\n",
       " (['excuse', '!', '!', '!', '!', '!', '!', '!', '!'],\n",
       "  -0.2980232238769531,\n",
       "  0.05,\n",
       "  None),\n",
       " (['back'], 0.0, 0.0, None),\n",
       " (['wonderful'], 1.0, 1.0, None),\n",
       " (['spent'], -0.1, 0.1, None),\n",
       " (['own'], 0.6, 1.0, None),\n",
       " (['different'], 0.0, 0.6, None),\n",
       " (['more'], 0.5, 0.5, None),\n",
       " (['right'], 0.2857142857142857, 0.5357142857142857, None),\n",
       " (['safe'], 0.5, 0.5, None),\n",
       " (['ready'], 0.2, 0.5, None),\n",
       " (['light'], 0.4, 0.7, None),\n",
       " (['left'], 0.0, 0.0, None),\n",
       " (['right'], 0.2857142857142857, 0.5357142857142857, None),\n",
       " (['better'], 0.5, 0.5, None),\n",
       " (['mean', '!', '!'], -0.48828125, 0.6875, None),\n",
       " (['down'], -0.15555555555555559, 0.2888888888888889, None),\n",
       " (['pity', '!', '!'], -0.15625, 0.2, None),\n",
       " (['right', '!', '!', '!'], 0.5580357142857142, 0.5357142857142857, None),\n",
       " (['afraid'], -0.6, 0.9, None),\n",
       " (['right'], 0.2857142857142857, 0.5357142857142857, None),\n",
       " (['no', 'other', '!', '!'], 0.09765625, 0.375, None),\n",
       " (['destroy'], -0.2, 0.0, None),\n",
       " (['especially'], 0.0, 1.0, None),\n",
       " (['back', '!', '!', '!', '!'], 0.0, 0.0, None),\n",
       " (['glad'], 0.5, 1.0, None)]"
      ]
     },
     "execution_count": 21,
     "metadata": {},
     "output_type": "execute_result"
    }
   ],
   "source": [
    "# make doc of frodos dialog text\n",
    "doc_frodo = nlp(frodo)\n",
    "\n",
    "# frodo assessment\n",
    "frodo_sa = doc_frodo._.assessments\n",
    "frodo_sa"
   ]
  },
  {
   "cell_type": "code",
   "execution_count": 22,
   "metadata": {},
   "outputs": [
    {
     "data": {
      "text/plain": [
       "138"
      ]
     },
     "execution_count": 22,
     "metadata": {},
     "output_type": "execute_result"
    }
   ],
   "source": [
    "# Wie viele Sätze\n",
    "sentences = frodo.split(\".\")\n",
    "len(sentences)"
   ]
  },
  {
   "cell_type": "code",
   "execution_count": 26,
   "metadata": {},
   "outputs": [
    {
     "data": {
      "text/plain": [
       "62"
      ]
     },
     "execution_count": 26,
     "metadata": {},
     "output_type": "execute_result"
    }
   ],
   "source": [
    "# Wie viele Sätze nach NLP\n",
    "len(frodo_sa)"
   ]
  },
  {
   "cell_type": "code",
   "execution_count": 24,
   "metadata": {},
   "outputs": [],
   "source": [
    "# Warum verschiedene Ergebnisse bei Anzahl der Sätze???"
   ]
  },
  {
   "cell_type": "code",
   "execution_count": null,
   "metadata": {},
   "outputs": [],
   "source": []
  }
 ],
 "metadata": {
  "kernelspec": {
   "display_name": "Python 3 (ipykernel)",
   "language": "python",
   "name": "python3"
  },
  "language_info": {
   "codemirror_mode": {
    "name": "ipython",
    "version": 3
   },
   "file_extension": ".py",
   "mimetype": "text/x-python",
   "name": "python",
   "nbconvert_exporter": "python",
   "pygments_lexer": "ipython3",
   "version": "3.9.6"
  }
 },
 "nbformat": 4,
 "nbformat_minor": 4
}
