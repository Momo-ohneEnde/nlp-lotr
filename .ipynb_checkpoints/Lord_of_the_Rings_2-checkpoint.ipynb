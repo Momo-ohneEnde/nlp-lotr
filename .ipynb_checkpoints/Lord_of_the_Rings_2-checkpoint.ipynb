{
 "cells": [
  {
   "cell_type": "markdown",
   "id": "b78b1fd4",
   "metadata": {},
   "source": [
    "## Datenbereinigung Schritte\n",
    "\n",
    "### Allgemein\n",
    "\n",
    "- Inhalt zwischen Klammern entfernen\n",
    "- Drehbuchseiten entfernen (alles zwischen \"continued\" und \"continued\")\n",
    "- alles in Großbuchstaben nach \"CUT TO\" entfernen (sind Szenenwechsel)\n",
    "- alles in Großbuchstaben nach \"ANGLE ON\" entfernen (sind Kameraanweisungen)\n",
    "- Regieanweisungen mit Name \"Regie\" anlegen (davor Namensliste Personen anlegen - Großbuchstaben, die nicht der Name sind,  rausschmeißen)\n",
    "- whitespace vereinheitlichen\n",
    "\n",
    "\n",
    "### Teil 2\n",
    "\n",
    "- Fragezeichen entfernen: Akzente über Namen (Éomer, Éowyn, Gríma etc.), Apostrophe\n",
    "\n",
    "\n",
    "### Teil 3\n",
    "\n"
   ]
  }
 ],
 "metadata": {
  "kernelspec": {
   "display_name": "Python 3 (ipykernel)",
   "language": "python",
   "name": "python3"
  },
  "language_info": {
   "codemirror_mode": {
    "name": "ipython",
    "version": 3
   },
   "file_extension": ".py",
   "mimetype": "text/x-python",
   "name": "python",
   "nbconvert_exporter": "python",
   "pygments_lexer": "ipython3",
   "version": "3.10.0"
  }
 },
 "nbformat": 4,
 "nbformat_minor": 5
}
