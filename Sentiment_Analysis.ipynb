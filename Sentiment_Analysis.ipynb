{
 "cells": [
  {
   "cell_type": "markdown",
   "id": "4f8c0b73",
   "metadata": {},
   "source": [
    "# Sentiment Analysis"
   ]
  },
  {
   "cell_type": "markdown",
   "id": "809254e9",
   "metadata": {},
   "source": [
    "## Helper functions"
   ]
  },
  {
   "cell_type": "markdown",
   "id": "78707151",
   "metadata": {},
   "source": [
    "### Remove apostrophies from negotiations (don't, haven't, ...)"
   ]
  },
  {
   "cell_type": "code",
   "execution_count": null,
   "id": "75eff371",
   "metadata": {},
   "outputs": [],
   "source": [
    "def write_out_negotiations(text):\n",
    "    \n",
    "    # haven't, hasn't\n",
    "\n",
    "    text = re.sub(\"haven't\", \"have not\", text)\n",
    "    text = re.sub(\"Haven't\", \"Have not\", text)\n",
    "    text = re.sub(\"hasn't\", \"has not\", text)\n",
    "    text = re.sub(\"Hasn't\", \"Has not\", text)\n",
    "\n",
    "    ## isn't, can't, don't\n",
    "\n",
    "    text = re.sub(\"mustn't\", \"must not\", text)\n",
    "    text = re.sub(\"Mustn't\", \"Must not\", text)\n",
    "\n",
    "    text = re.sub(\"can'\", \"can not\", text)\n",
    "    text = re.sub(\"Can't\", \"Can not\", text)\n",
    "\n",
    "    text = re.sub(\"isn't\", \"is not\", text)\n",
    "    text = re.sub(\"Isn't\", \"Is not\", text)\n",
    "\n",
    "    text = re.sub(\"aren't\", \"are not\", text)\n",
    "    text = re.sub(\"Aren't\", \"Are not\", text)\n",
    "\n",
    "    text = re.sub(\"don't\", \"do not\", text)\n",
    "    text = re.sub(\"Don't\", \"Do not\", text)\n",
    "\n",
    "    text = re.sub(\"doesn't\", \"does not\", text)\n",
    "    text = re.sub(\"doesn't\", \"does not\", text)\n",
    "\n",
    "    text = re.sub(\"didn't\", \"did not\", text)\n",
    "    text = re.sub(\"Didn't\", \"Did not\", text)\n",
    "\n",
    "    ## wasn't, won't\n",
    "\n",
    "    text = re.sub(\"wasn't\", \"was not\", text)\n",
    "    text = re.sub(\"Wasn't\", \"Was not\", text)\n",
    "\n",
    "    text = re.sub(\"won't\", \"will not\", text)\n",
    "    text = re.sub(\"Won't\", \"Will not\", text)\n",
    "\n",
    "    ## wouldn't, couldn't\n",
    "\n",
    "    text = re.sub(\"couldn't\", \"could not\", text)\n",
    "    text = re.sub(\"shouldn't\", \"should not\", text)\n",
    "    return text"
   ]
  }
 ],
 "metadata": {
  "kernelspec": {
   "display_name": "Python 3 (ipykernel)",
   "language": "python",
   "name": "python3"
  },
  "language_info": {
   "codemirror_mode": {
    "name": "ipython",
    "version": 3
   },
   "file_extension": ".py",
   "mimetype": "text/x-python",
   "name": "python",
   "nbconvert_exporter": "python",
   "pygments_lexer": "ipython3",
   "version": "3.10.0"
  }
 },
 "nbformat": 4,
 "nbformat_minor": 5
}
